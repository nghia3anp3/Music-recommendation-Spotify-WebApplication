{
 "cells": [
  {
   "cell_type": "code",
   "execution_count": 48,
   "id": "9be71ba3",
   "metadata": {
    "ExecuteTime": {
     "end_time": "2023-07-29T07:30:24.293978Z",
     "start_time": "2023-07-29T07:30:24.285979Z"
    }
   },
   "outputs": [],
   "source": [
    "import pandas as pd\n",
    "import numpy as np\n",
    "\n",
    "from sklearn.metrics import accuracy_score\n",
    "from sklearn.ensemble import RandomForestClassifier"
   ]
  },
  {
   "cell_type": "code",
   "execution_count": 49,
   "id": "4b20c668",
   "metadata": {
    "ExecuteTime": {
     "end_time": "2023-07-29T07:30:28.132507Z",
     "start_time": "2023-07-29T07:30:24.945958Z"
    }
   },
   "outputs": [],
   "source": [
    "df = pd.read_json(\"MasterSongList.json\")"
   ]
  },
  {
   "cell_type": "code",
   "execution_count": 99,
   "id": "0916257e",
   "metadata": {
    "ExecuteTime": {
     "end_time": "2023-07-13T02:00:09.799171Z",
     "start_time": "2023-07-13T02:00:09.791799Z"
    }
   },
   "outputs": [
    {
     "data": {
      "text/plain": [
       "(36733, 16)"
      ]
     },
     "execution_count": 99,
     "metadata": {},
     "output_type": "execute_result"
    }
   ],
   "source": [
    "df.shape"
   ]
  },
  {
   "cell_type": "code",
   "execution_count": 50,
   "id": "16264b61",
   "metadata": {
    "ExecuteTime": {
     "end_time": "2023-07-29T07:33:20.725989Z",
     "start_time": "2023-07-29T07:33:20.467421Z"
    }
   },
   "outputs": [],
   "source": [
    "audio_f = df['audio_features']\n",
    "audio_f = audio_f.values.tolist()\n",
    "header = ['key','energy','liveliness','tempo','speechiness','acousticness','instrumentalness','time_signature','duration','loudness','valence','danceability','mode','time_signature_confidence','tempo_confidence','key_confidence','mode_confidence']\n",
    "audio_f_df = pd.DataFrame(audio_f, columns= header)\n",
    "audio_f_df = pd.concat([audio_f_df, df['genres']],axis = 1)\n",
    "audio_f_df.loc[:,'genres'] = audio_f_df['genres'].apply(lambda x: \" \".join(x))\n",
    "audio_f_df.loc[audio_f_df['genres']==\"\",'genres'] = np.nan\n",
    "audio_f_df.dropna(inplace=True)\n",
    "audio_f_df.loc[:,'genres'] = audio_f_df['genres'].apply(lambda x: x.split(':')[0] if len(x)>0 else x)\n",
    "popular_genres = ['rock','rap','r&b','dance','jazz','indie','electronica','country','singer-songwriter','latin','pop','funk']"
   ]
  },
  {
   "cell_type": "code",
   "execution_count": 51,
   "id": "3627faeb",
   "metadata": {
    "ExecuteTime": {
     "end_time": "2023-07-29T07:33:20.775493Z",
     "start_time": "2023-07-29T07:33:20.725989Z"
    }
   },
   "outputs": [],
   "source": [
    "audio_f_df = audio_f_df[audio_f_df['genres'].apply(lambda x: x in popular_genres)]"
   ]
  },
  {
   "cell_type": "code",
   "execution_count": 52,
   "id": "c7415bc0",
   "metadata": {
    "ExecuteTime": {
     "end_time": "2023-07-29T07:33:21.027408Z",
     "start_time": "2023-07-29T07:33:21.011016Z"
    }
   },
   "outputs": [
    {
     "data": {
      "text/plain": [
       "rock                 6435\n",
       "rap                  2452\n",
       "r&b                  2344\n",
       "dance                2000\n",
       "jazz                 1889\n",
       "indie                1834\n",
       "electronica          1249\n",
       "country              1075\n",
       "singer-songwriter    1034\n",
       "latin                1032\n",
       "pop                   689\n",
       "funk                  470\n",
       "Name: genres, dtype: int64"
      ]
     },
     "execution_count": 52,
     "metadata": {},
     "output_type": "execute_result"
    }
   ],
   "source": [
    "audio_f_df['genres'].value_counts()"
   ]
  },
  {
   "cell_type": "code",
   "execution_count": 262,
   "id": "d126d365",
   "metadata": {
    "ExecuteTime": {
     "end_time": "2023-07-11T06:05:18.400052Z",
     "start_time": "2023-07-11T06:05:18.384071Z"
    }
   },
   "outputs": [],
   "source": [
    "X = scaler.fit_transform(audio_f_df.drop(columns=['genres']))\n",
    "y = audio_f_df['genres']"
   ]
  },
  {
   "cell_type": "code",
   "execution_count": 263,
   "id": "47fd41a0",
   "metadata": {
    "ExecuteTime": {
     "end_time": "2023-07-11T06:05:28.638123Z",
     "start_time": "2023-07-11T06:05:19.579423Z"
    }
   },
   "outputs": [
    {
     "data": {
      "text/plain": [
       "RandomForestClassifier()"
      ]
     },
     "execution_count": 263,
     "metadata": {},
     "output_type": "execute_result"
    }
   ],
   "source": [
    "# rfc\n",
    "rfc_test = RandomForestClassifier()\n",
    "\n",
    "X_train, X_test, y_train, y_test = train_test_split(X,y,test_size = 0.3,random_state = 101)\n",
    "rfc_test.fit(X_train, y_train)"
   ]
  },
  {
   "cell_type": "code",
   "execution_count": 268,
   "id": "877aafe2",
   "metadata": {
    "ExecuteTime": {
     "end_time": "2023-07-11T06:07:54.006271Z",
     "start_time": "2023-07-11T06:07:53.970061Z"
    }
   },
   "outputs": [
    {
     "data": {
      "text/plain": [
       "array([0.0337756 , 0.07604501, 0.05072729, 0.06526776, 0.09774239,\n",
       "       0.09697707, 0.0703572 , 0.01033314, 0.00612063, 0.06792888,\n",
       "       0.06052538, 0.06462322, 0.1010864 , 0.05107563, 0.05428734,\n",
       "       0.05739562, 0.03573143])"
      ]
     },
     "execution_count": 268,
     "metadata": {},
     "output_type": "execute_result"
    }
   ],
   "source": [
    "rfc_test.feature_importances_"
   ]
  },
  {
   "cell_type": "code",
   "execution_count": 264,
   "id": "90940d97",
   "metadata": {
    "ExecuteTime": {
     "end_time": "2023-07-11T06:05:33.263769Z",
     "start_time": "2023-07-11T06:05:32.973664Z"
    }
   },
   "outputs": [
    {
     "name": "stdout",
     "output_type": "stream",
     "text": [
      "0.5085172567027108\n"
     ]
    }
   ],
   "source": [
    "predictions = rfc_test.predict(X_test)\n",
    "print(accuracy_score(y_test,predictions))"
   ]
  },
  {
   "cell_type": "code",
   "execution_count": 266,
   "id": "2999f40d",
   "metadata": {
    "ExecuteTime": {
     "end_time": "2023-07-11T06:07:07.597096Z",
     "start_time": "2023-07-11T06:05:51.049369Z"
    }
   },
   "outputs": [
    {
     "data": {
      "text/plain": [
       "RFE(estimator=RandomForestClassifier(), n_features_to_select=9)"
      ]
     },
     "execution_count": 266,
     "metadata": {},
     "output_type": "execute_result"
    }
   ],
   "source": [
    "#rfe\n",
    "\n",
    "from sklearn.feature_selection import RFE\n",
    "rfe_model = RFE(rfc, n_features_to_select=9)\n",
    "X_train, X_test, y_train, y_test = train_test_split(X,y,test_size = 0.3,random_state = 101)\n",
    "rfe_model.fit(X_train, y_train)"
   ]
  },
  {
   "cell_type": "code",
   "execution_count": 267,
   "id": "6cef0eef",
   "metadata": {
    "ExecuteTime": {
     "end_time": "2023-07-11T06:07:32.830317Z",
     "start_time": "2023-07-11T06:07:32.574842Z"
    }
   },
   "outputs": [
    {
     "name": "stdout",
     "output_type": "stream",
     "text": [
      "0.5039253443934232\n"
     ]
    }
   ],
   "source": [
    "print(accuracy_score(y_test,rfe_model.predict(X_test)))"
   ]
  },
  {
   "cell_type": "code",
   "execution_count": 276,
   "id": "aaffd80c",
   "metadata": {
    "ExecuteTime": {
     "end_time": "2023-07-11T06:10:53.822306Z",
     "start_time": "2023-07-11T06:10:53.804459Z"
    }
   },
   "outputs": [],
   "source": [
    "X_train, X_test, y_train, y_test = train_test_split(X,y,test_size = 0.3,random_state = 101)"
   ]
  },
  {
   "cell_type": "code",
   "execution_count": 62,
   "id": "5f9e27f9",
   "metadata": {
    "ExecuteTime": {
     "end_time": "2023-07-11T04:46:03.585682Z",
     "start_time": "2023-07-11T04:46:03.566456Z"
    }
   },
   "outputs": [],
   "source": [
    "from sklearn.feature_selection import SelectKBest\n",
    "sK = SelectKBest(k = 9)\n",
    "X_train_kbest = sK.fit_transform(X,y)\n",
    "X_train_kbest_1, X_test_kbest_1, y_train, y_test = train_test_split(X_train_kbest,y, test_size = 0.2, random_state = 101)\n",
    "rfc_Kbest.fit(X_train_kbest_1, y_train)"
   ]
  },
  {
   "cell_type": "code",
   "execution_count": 67,
   "id": "83acf98b",
   "metadata": {
    "ExecuteTime": {
     "end_time": "2023-07-11T04:51:59.363524Z",
     "start_time": "2023-07-11T04:51:59.229886Z"
    }
   },
   "outputs": [],
   "source": [
    "X_train_kbest = sK.fit_transform(X,y)"
   ]
  },
  {
   "cell_type": "code",
   "execution_count": 68,
   "id": "46a664a8",
   "metadata": {
    "ExecuteTime": {
     "end_time": "2023-07-11T04:52:01.349361Z",
     "start_time": "2023-07-11T04:52:01.319404Z"
    }
   },
   "outputs": [],
   "source": [
    "X_train_kbest_1, X_test_kbest_1, y_train, y_test = train_test_split(X_train_kbest,y, test_size = 0.2, random_state = 101)"
   ]
  },
  {
   "cell_type": "code",
   "execution_count": 69,
   "id": "f1cb5720",
   "metadata": {
    "ExecuteTime": {
     "end_time": "2023-07-11T04:52:53.060125Z",
     "start_time": "2023-07-11T04:52:36.890072Z"
    }
   },
   "outputs": [
    {
     "data": {
      "text/plain": [
       "RFE(estimator=RandomForestClassifier(max_features='sqrt', min_samples_split=10),\n",
       "    n_features_to_select=9)"
      ]
     },
     "execution_count": 69,
     "metadata": {},
     "output_type": "execute_result"
    }
   ],
   "source": [
    "rfe_model.fit(X_train_kbest_1, y_train)"
   ]
  },
  {
   "cell_type": "code",
   "execution_count": 70,
   "id": "befd32d6",
   "metadata": {
    "ExecuteTime": {
     "end_time": "2023-07-11T04:54:01.188751Z",
     "start_time": "2023-07-11T04:54:00.806097Z"
    }
   },
   "outputs": [
    {
     "name": "stdout",
     "output_type": "stream",
     "text": [
      "0.3717821782178218\n"
     ]
    }
   ],
   "source": [
    "print(accuracy_score(y_test, rfe_model.predict(X_test_kbest_1)))"
   ]
  },
  {
   "cell_type": "code",
   "execution_count": 236,
   "id": "4b5bf525",
   "metadata": {
    "ExecuteTime": {
     "end_time": "2023-07-11T05:32:40.276958Z",
     "start_time": "2023-07-11T05:32:40.268908Z"
    }
   },
   "outputs": [],
   "source": [
    "param_grid = {\n",
    "    'n_estimators': [5, 10, 100],\n",
    "    'min_samples_split': [4, 5, 10],\n",
    "    'max_features': ['sqrt', 'log2', 'auto']\n",
    "}"
   ]
  },
  {
   "cell_type": "code",
   "execution_count": 237,
   "id": "0abcda60",
   "metadata": {
    "ExecuteTime": {
     "end_time": "2023-07-11T05:32:48.271054Z",
     "start_time": "2023-07-11T05:32:48.262681Z"
    }
   },
   "outputs": [],
   "source": [
    "from sklearn.model_selection import GridSearchCV\n",
    "gcv = GridSearchCV(rfc, param_grid, verbose = 2)"
   ]
  },
  {
   "cell_type": "code",
   "execution_count": 238,
   "id": "3dbc9c85",
   "metadata": {
    "ExecuteTime": {
     "end_time": "2023-07-11T05:41:09.294280Z",
     "start_time": "2023-07-11T05:32:48.421675Z"
    }
   },
   "outputs": [
    {
     "name": "stdout",
     "output_type": "stream",
     "text": [
      "Fitting 5 folds for each of 27 candidates, totalling 135 fits\n",
      "[CV] END max_features=sqrt, min_samples_split=4, n_estimators=5; total time=   0.4s\n",
      "[CV] END max_features=sqrt, min_samples_split=4, n_estimators=5; total time=   0.3s\n",
      "[CV] END max_features=sqrt, min_samples_split=4, n_estimators=5; total time=   0.4s\n",
      "[CV] END max_features=sqrt, min_samples_split=4, n_estimators=5; total time=   0.2s\n",
      "[CV] END max_features=sqrt, min_samples_split=4, n_estimators=5; total time=   0.3s\n",
      "[CV] END max_features=sqrt, min_samples_split=4, n_estimators=10; total time=   0.8s\n",
      "[CV] END max_features=sqrt, min_samples_split=4, n_estimators=10; total time=   0.7s\n",
      "[CV] END max_features=sqrt, min_samples_split=4, n_estimators=10; total time=   0.8s\n",
      "[CV] END max_features=sqrt, min_samples_split=4, n_estimators=10; total time=   0.8s\n",
      "[CV] END max_features=sqrt, min_samples_split=4, n_estimators=10; total time=   1.2s\n",
      "[CV] END max_features=sqrt, min_samples_split=4, n_estimators=100; total time=  10.4s\n",
      "[CV] END max_features=sqrt, min_samples_split=4, n_estimators=100; total time=   9.7s\n",
      "[CV] END max_features=sqrt, min_samples_split=4, n_estimators=100; total time=   8.8s\n",
      "[CV] END max_features=sqrt, min_samples_split=4, n_estimators=100; total time=  10.4s\n",
      "[CV] END max_features=sqrt, min_samples_split=4, n_estimators=100; total time=  10.0s\n",
      "[CV] END max_features=sqrt, min_samples_split=5, n_estimators=5; total time=   0.5s\n",
      "[CV] END max_features=sqrt, min_samples_split=5, n_estimators=5; total time=   0.3s\n",
      "[CV] END max_features=sqrt, min_samples_split=5, n_estimators=5; total time=   0.2s\n",
      "[CV] END max_features=sqrt, min_samples_split=5, n_estimators=5; total time=   0.4s\n",
      "[CV] END max_features=sqrt, min_samples_split=5, n_estimators=5; total time=   0.4s\n",
      "[CV] END max_features=sqrt, min_samples_split=5, n_estimators=10; total time=   0.8s\n",
      "[CV] END max_features=sqrt, min_samples_split=5, n_estimators=10; total time=   0.9s\n",
      "[CV] END max_features=sqrt, min_samples_split=5, n_estimators=10; total time=   1.0s\n",
      "[CV] END max_features=sqrt, min_samples_split=5, n_estimators=10; total time=   1.0s\n",
      "[CV] END max_features=sqrt, min_samples_split=5, n_estimators=10; total time=   1.1s\n",
      "[CV] END max_features=sqrt, min_samples_split=5, n_estimators=100; total time=   9.0s\n",
      "[CV] END max_features=sqrt, min_samples_split=5, n_estimators=100; total time=   7.5s\n",
      "[CV] END max_features=sqrt, min_samples_split=5, n_estimators=100; total time=   7.6s\n",
      "[CV] END max_features=sqrt, min_samples_split=5, n_estimators=100; total time=   8.9s\n",
      "[CV] END max_features=sqrt, min_samples_split=5, n_estimators=100; total time=   9.7s\n",
      "[CV] END max_features=sqrt, min_samples_split=10, n_estimators=5; total time=   0.4s\n",
      "[CV] END max_features=sqrt, min_samples_split=10, n_estimators=5; total time=   0.5s\n",
      "[CV] END max_features=sqrt, min_samples_split=10, n_estimators=5; total time=   0.4s\n",
      "[CV] END max_features=sqrt, min_samples_split=10, n_estimators=5; total time=   0.5s\n",
      "[CV] END max_features=sqrt, min_samples_split=10, n_estimators=5; total time=   0.5s\n",
      "[CV] END max_features=sqrt, min_samples_split=10, n_estimators=10; total time=   0.8s\n",
      "[CV] END max_features=sqrt, min_samples_split=10, n_estimators=10; total time=   0.8s\n",
      "[CV] END max_features=sqrt, min_samples_split=10, n_estimators=10; total time=   0.7s\n",
      "[CV] END max_features=sqrt, min_samples_split=10, n_estimators=10; total time=   0.8s\n",
      "[CV] END max_features=sqrt, min_samples_split=10, n_estimators=10; total time=   0.8s\n",
      "[CV] END max_features=sqrt, min_samples_split=10, n_estimators=100; total time=   9.5s\n",
      "[CV] END max_features=sqrt, min_samples_split=10, n_estimators=100; total time=   9.1s\n",
      "[CV] END max_features=sqrt, min_samples_split=10, n_estimators=100; total time=   8.7s\n",
      "[CV] END max_features=sqrt, min_samples_split=10, n_estimators=100; total time=   9.3s\n",
      "[CV] END max_features=sqrt, min_samples_split=10, n_estimators=100; total time=   8.9s\n",
      "[CV] END max_features=log2, min_samples_split=4, n_estimators=5; total time=   0.4s\n",
      "[CV] END max_features=log2, min_samples_split=4, n_estimators=5; total time=   0.3s\n",
      "[CV] END max_features=log2, min_samples_split=4, n_estimators=5; total time=   0.4s\n",
      "[CV] END max_features=log2, min_samples_split=4, n_estimators=5; total time=   0.3s\n",
      "[CV] END max_features=log2, min_samples_split=4, n_estimators=5; total time=   0.4s\n",
      "[CV] END max_features=log2, min_samples_split=4, n_estimators=10; total time=   0.9s\n",
      "[CV] END max_features=log2, min_samples_split=4, n_estimators=10; total time=   0.9s\n",
      "[CV] END max_features=log2, min_samples_split=4, n_estimators=10; total time=   0.8s\n",
      "[CV] END max_features=log2, min_samples_split=4, n_estimators=10; total time=   0.8s\n",
      "[CV] END max_features=log2, min_samples_split=4, n_estimators=10; total time=   0.8s\n",
      "[CV] END max_features=log2, min_samples_split=4, n_estimators=100; total time=  10.5s\n",
      "[CV] END max_features=log2, min_samples_split=4, n_estimators=100; total time=  11.0s\n",
      "[CV] END max_features=log2, min_samples_split=4, n_estimators=100; total time=  10.0s\n",
      "[CV] END max_features=log2, min_samples_split=4, n_estimators=100; total time=  11.1s\n",
      "[CV] END max_features=log2, min_samples_split=4, n_estimators=100; total time=   8.9s\n",
      "[CV] END max_features=log2, min_samples_split=5, n_estimators=5; total time=   0.4s\n",
      "[CV] END max_features=log2, min_samples_split=5, n_estimators=5; total time=   0.4s\n",
      "[CV] END max_features=log2, min_samples_split=5, n_estimators=5; total time=   0.4s\n",
      "[CV] END max_features=log2, min_samples_split=5, n_estimators=5; total time=   0.4s\n",
      "[CV] END max_features=log2, min_samples_split=5, n_estimators=5; total time=   0.2s\n",
      "[CV] END max_features=log2, min_samples_split=5, n_estimators=10; total time=   0.8s\n",
      "[CV] END max_features=log2, min_samples_split=5, n_estimators=10; total time=   0.8s\n",
      "[CV] END max_features=log2, min_samples_split=5, n_estimators=10; total time=   0.7s\n",
      "[CV] END max_features=log2, min_samples_split=5, n_estimators=10; total time=   1.0s\n",
      "[CV] END max_features=log2, min_samples_split=5, n_estimators=10; total time=   0.8s\n",
      "[CV] END max_features=log2, min_samples_split=5, n_estimators=100; total time=   9.5s\n",
      "[CV] END max_features=log2, min_samples_split=5, n_estimators=100; total time=   8.3s\n",
      "[CV] END max_features=log2, min_samples_split=5, n_estimators=100; total time=   9.6s\n",
      "[CV] END max_features=log2, min_samples_split=5, n_estimators=100; total time=  10.1s\n",
      "[CV] END max_features=log2, min_samples_split=5, n_estimators=100; total time=   9.1s\n",
      "[CV] END max_features=log2, min_samples_split=10, n_estimators=5; total time=   0.3s\n",
      "[CV] END max_features=log2, min_samples_split=10, n_estimators=5; total time=   0.4s\n",
      "[CV] END max_features=log2, min_samples_split=10, n_estimators=5; total time=   0.3s\n",
      "[CV] END max_features=log2, min_samples_split=10, n_estimators=5; total time=   0.3s\n",
      "[CV] END max_features=log2, min_samples_split=10, n_estimators=5; total time=   0.5s\n",
      "[CV] END max_features=log2, min_samples_split=10, n_estimators=10; total time=   0.7s\n",
      "[CV] END max_features=log2, min_samples_split=10, n_estimators=10; total time=   0.9s\n",
      "[CV] END max_features=log2, min_samples_split=10, n_estimators=10; total time=   0.8s\n",
      "[CV] END max_features=log2, min_samples_split=10, n_estimators=10; total time=   0.8s\n",
      "[CV] END max_features=log2, min_samples_split=10, n_estimators=10; total time=   0.9s\n",
      "[CV] END max_features=log2, min_samples_split=10, n_estimators=100; total time=   8.4s\n",
      "[CV] END max_features=log2, min_samples_split=10, n_estimators=100; total time=   8.7s\n",
      "[CV] END max_features=log2, min_samples_split=10, n_estimators=100; total time=   7.9s\n",
      "[CV] END max_features=log2, min_samples_split=10, n_estimators=100; total time=   8.8s\n",
      "[CV] END max_features=log2, min_samples_split=10, n_estimators=100; total time=   9.1s\n",
      "[CV] END max_features=auto, min_samples_split=4, n_estimators=5; total time=   0.3s\n",
      "[CV] END max_features=auto, min_samples_split=4, n_estimators=5; total time=   0.4s\n",
      "[CV] END max_features=auto, min_samples_split=4, n_estimators=5; total time=   0.5s\n",
      "[CV] END max_features=auto, min_samples_split=4, n_estimators=5; total time=   0.4s\n",
      "[CV] END max_features=auto, min_samples_split=4, n_estimators=5; total time=   0.5s\n",
      "[CV] END max_features=auto, min_samples_split=4, n_estimators=10; total time=   0.9s\n"
     ]
    },
    {
     "name": "stdout",
     "output_type": "stream",
     "text": [
      "[CV] END max_features=auto, min_samples_split=4, n_estimators=10; total time=   0.9s\n",
      "[CV] END max_features=auto, min_samples_split=4, n_estimators=10; total time=   1.0s\n",
      "[CV] END max_features=auto, min_samples_split=4, n_estimators=10; total time=   0.9s\n",
      "[CV] END max_features=auto, min_samples_split=4, n_estimators=10; total time=   1.0s\n",
      "[CV] END max_features=auto, min_samples_split=4, n_estimators=100; total time=   8.4s\n",
      "[CV] END max_features=auto, min_samples_split=4, n_estimators=100; total time=   9.8s\n",
      "[CV] END max_features=auto, min_samples_split=4, n_estimators=100; total time=   9.1s\n",
      "[CV] END max_features=auto, min_samples_split=4, n_estimators=100; total time=   9.5s\n",
      "[CV] END max_features=auto, min_samples_split=4, n_estimators=100; total time=   9.8s\n",
      "[CV] END max_features=auto, min_samples_split=5, n_estimators=5; total time=   0.5s\n",
      "[CV] END max_features=auto, min_samples_split=5, n_estimators=5; total time=   0.4s\n",
      "[CV] END max_features=auto, min_samples_split=5, n_estimators=5; total time=   0.6s\n",
      "[CV] END max_features=auto, min_samples_split=5, n_estimators=5; total time=   0.6s\n",
      "[CV] END max_features=auto, min_samples_split=5, n_estimators=5; total time=   0.5s\n",
      "[CV] END max_features=auto, min_samples_split=5, n_estimators=10; total time=   1.2s\n",
      "[CV] END max_features=auto, min_samples_split=5, n_estimators=10; total time=   1.0s\n",
      "[CV] END max_features=auto, min_samples_split=5, n_estimators=10; total time=   1.1s\n",
      "[CV] END max_features=auto, min_samples_split=5, n_estimators=10; total time=   1.0s\n",
      "[CV] END max_features=auto, min_samples_split=5, n_estimators=10; total time=   0.8s\n",
      "[CV] END max_features=auto, min_samples_split=5, n_estimators=100; total time=   9.3s\n",
      "[CV] END max_features=auto, min_samples_split=5, n_estimators=100; total time=   8.7s\n",
      "[CV] END max_features=auto, min_samples_split=5, n_estimators=100; total time=  10.0s\n",
      "[CV] END max_features=auto, min_samples_split=5, n_estimators=100; total time=  10.2s\n",
      "[CV] END max_features=auto, min_samples_split=5, n_estimators=100; total time=  10.7s\n",
      "[CV] END max_features=auto, min_samples_split=10, n_estimators=5; total time=   0.4s\n",
      "[CV] END max_features=auto, min_samples_split=10, n_estimators=5; total time=   0.3s\n",
      "[CV] END max_features=auto, min_samples_split=10, n_estimators=5; total time=   0.4s\n",
      "[CV] END max_features=auto, min_samples_split=10, n_estimators=5; total time=   0.5s\n",
      "[CV] END max_features=auto, min_samples_split=10, n_estimators=5; total time=   0.5s\n",
      "[CV] END max_features=auto, min_samples_split=10, n_estimators=10; total time=   0.8s\n",
      "[CV] END max_features=auto, min_samples_split=10, n_estimators=10; total time=   0.8s\n",
      "[CV] END max_features=auto, min_samples_split=10, n_estimators=10; total time=   0.6s\n",
      "[CV] END max_features=auto, min_samples_split=10, n_estimators=10; total time=   0.8s\n",
      "[CV] END max_features=auto, min_samples_split=10, n_estimators=10; total time=   0.8s\n",
      "[CV] END max_features=auto, min_samples_split=10, n_estimators=100; total time=   9.2s\n",
      "[CV] END max_features=auto, min_samples_split=10, n_estimators=100; total time=   9.0s\n",
      "[CV] END max_features=auto, min_samples_split=10, n_estimators=100; total time=   8.8s\n",
      "[CV] END max_features=auto, min_samples_split=10, n_estimators=100; total time=   8.2s\n",
      "[CV] END max_features=auto, min_samples_split=10, n_estimators=100; total time=   8.6s\n"
     ]
    },
    {
     "data": {
      "text/plain": [
       "GridSearchCV(estimator=RandomForestClassifier(),\n",
       "             param_grid={'max_features': ['sqrt', 'log2', 'auto'],\n",
       "                         'min_samples_split': [4, 5, 10],\n",
       "                         'n_estimators': [5, 10, 100]},\n",
       "             verbose=2)"
      ]
     },
     "execution_count": 238,
     "metadata": {},
     "output_type": "execute_result"
    }
   ],
   "source": [
    "gcv.fit(X_train, y_train)"
   ]
  },
  {
   "cell_type": "code",
   "execution_count": 240,
   "id": "4407fd3f",
   "metadata": {
    "ExecuteTime": {
     "end_time": "2023-07-11T05:42:12.621621Z",
     "start_time": "2023-07-11T05:42:12.295765Z"
    }
   },
   "outputs": [
    {
     "name": "stdout",
     "output_type": "stream",
     "text": [
      "0.46508774082709536\n"
     ]
    }
   ],
   "source": [
    "print(accuracy_score(y_test, gcv.predict(X_test)))"
   ]
  },
  {
   "cell_type": "code",
   "execution_count": 241,
   "id": "c97102cd",
   "metadata": {
    "ExecuteTime": {
     "end_time": "2023-07-11T05:42:27.615733Z",
     "start_time": "2023-07-11T05:42:27.593277Z"
    }
   },
   "outputs": [
    {
     "data": {
      "text/plain": [
       "{'max_features': 'log2', 'min_samples_split': 5, 'n_estimators': 100}"
      ]
     },
     "execution_count": 241,
     "metadata": {},
     "output_type": "execute_result"
    }
   ],
   "source": [
    "gcv.best_params_"
   ]
  },
  {
   "cell_type": "code",
   "execution_count": 274,
   "id": "3b693292",
   "metadata": {
    "ExecuteTime": {
     "end_time": "2023-07-11T06:10:38.011746Z",
     "start_time": "2023-07-11T06:10:38.004233Z"
    }
   },
   "outputs": [],
   "source": [
    "rfc_best = gcv.best_estimator_"
   ]
  },
  {
   "cell_type": "code",
   "execution_count": 277,
   "id": "350c2198",
   "metadata": {
    "ExecuteTime": {
     "end_time": "2023-07-11T06:11:06.599742Z",
     "start_time": "2023-07-11T06:10:57.871397Z"
    }
   },
   "outputs": [
    {
     "data": {
      "text/plain": [
       "RandomForestClassifier(max_features='log2', min_samples_split=5)"
      ]
     },
     "execution_count": 277,
     "metadata": {},
     "output_type": "execute_result"
    }
   ],
   "source": [
    "rfc_best.fit(X_train, y_train)"
   ]
  },
  {
   "cell_type": "code",
   "execution_count": 278,
   "id": "cdb0a5da",
   "metadata": {
    "ExecuteTime": {
     "end_time": "2023-07-11T06:11:11.194043Z",
     "start_time": "2023-07-11T06:11:10.839427Z"
    }
   },
   "outputs": [
    {
     "name": "stdout",
     "output_type": "stream",
     "text": [
      "0.5123685379943712\n"
     ]
    }
   ],
   "source": [
    "print(accuracy_score(y_test, rfc_best.predict(X_test)))"
   ]
  },
  {
   "cell_type": "code",
   "execution_count": 272,
   "id": "03a886ed",
   "metadata": {
    "ExecuteTime": {
     "end_time": "2023-07-11T06:09:32.044719Z",
     "start_time": "2023-07-11T06:09:23.034836Z"
    }
   },
   "outputs": [
    {
     "data": {
      "text/plain": [
       "RandomForestClassifier(max_features='log2', min_samples_split=5)"
      ]
     },
     "execution_count": 272,
     "metadata": {},
     "output_type": "execute_result"
    }
   ],
   "source": [
    "from sklearn.feature_selection import SelectKBest\n",
    "sK = SelectKBest(k = 9)\n",
    "X_train_kbest = sK.fit_transform(X,y)\n",
    "X_train_kbest_1, X_test_kbest_1, y_train, y_test = train_test_split(X_train_kbest,y, test_size = 0.2, random_state = 101)\n",
    "rfc_best.fit(X_train_kbest_1, y_train)"
   ]
  },
  {
   "cell_type": "code",
   "execution_count": 273,
   "id": "5e195c23",
   "metadata": {
    "ExecuteTime": {
     "end_time": "2023-07-11T06:10:24.112850Z",
     "start_time": "2023-07-11T06:10:23.883660Z"
    },
    "scrolled": true
   },
   "outputs": [
    {
     "name": "stdout",
     "output_type": "stream",
     "text": [
      "0.49166851810708734\n"
     ]
    }
   ],
   "source": [
    "print(accuracy_score(y_test, rfc_best.predict(X_test_kbest_1)))"
   ]
  },
  {
   "cell_type": "code",
   "execution_count": 54,
   "id": "390f9c8c",
   "metadata": {
    "ExecuteTime": {
     "end_time": "2023-07-29T07:33:48.352094Z",
     "start_time": "2023-07-29T07:33:48.344364Z"
    }
   },
   "outputs": [],
   "source": [
    "rfc_best = RandomForestClassifier()"
   ]
  },
  {
   "cell_type": "code",
   "execution_count": 55,
   "id": "e5c6ccf6",
   "metadata": {
    "ExecuteTime": {
     "end_time": "2023-07-29T07:33:48.749453Z",
     "start_time": "2023-07-29T07:33:48.724918Z"
    }
   },
   "outputs": [],
   "source": [
    "import pickle\n",
    "pickle.dump(rfc_best, open('model.pkl', 'wb'))"
   ]
  },
  {
   "cell_type": "markdown",
   "id": "f30f828c",
   "metadata": {},
   "source": [
    "# Lyric"
   ]
  },
  {
   "cell_type": "code",
   "execution_count": 106,
   "id": "14aaf815",
   "metadata": {
    "ExecuteTime": {
     "end_time": "2023-07-29T07:45:56.137565Z",
     "start_time": "2023-07-29T07:45:53.270850Z"
    }
   },
   "outputs": [],
   "source": [
    "test_df = pd.read_json(\"MasterSongList.json\")"
   ]
  },
  {
   "cell_type": "code",
   "execution_count": 120,
   "id": "79bd8af7",
   "metadata": {
    "ExecuteTime": {
     "end_time": "2023-07-29T07:47:22.976987Z",
     "start_time": "2023-07-29T07:47:22.954561Z"
    }
   },
   "outputs": [
    {
     "data": {
      "text/plain": [
       "36733"
      ]
     },
     "execution_count": 120,
     "metadata": {},
     "output_type": "execute_result"
    }
   ],
   "source": [
    "len(test_df['lyrics_features'])"
   ]
  },
  {
   "cell_type": "code",
   "execution_count": 116,
   "id": "120663af",
   "metadata": {
    "ExecuteTime": {
     "end_time": "2023-07-29T07:47:03.601977Z",
     "start_time": "2023-07-29T07:47:03.561464Z"
    }
   },
   "outputs": [
    {
     "data": {
      "text/plain": [
       "20931"
      ]
     },
     "execution_count": 116,
     "metadata": {},
     "output_type": "execute_result"
    }
   ],
   "source": [
    "test_df['lyrics_features'].apply(lambda x: len(x)>0).sum()"
   ]
  },
  {
   "cell_type": "code",
   "execution_count": 87,
   "id": "3b15c7c4",
   "metadata": {
    "ExecuteTime": {
     "end_time": "2023-07-29T07:39:16.881623Z",
     "start_time": "2023-07-29T07:39:14.494801Z"
    }
   },
   "outputs": [],
   "source": [
    "df = pd.read_json(\"MasterSongList.json\")"
   ]
  },
  {
   "cell_type": "code",
   "execution_count": 88,
   "id": "9f2c3445",
   "metadata": {
    "ExecuteTime": {
     "end_time": "2023-07-29T07:39:17.943002Z",
     "start_time": "2023-07-29T07:39:17.466502Z"
    }
   },
   "outputs": [],
   "source": [
    "df['lyrics_features'] = df['lyrics_features'].apply(lambda x: \" \".join(x))"
   ]
  },
  {
   "cell_type": "code",
   "execution_count": 89,
   "id": "90576a53",
   "metadata": {
    "ExecuteTime": {
     "end_time": "2023-07-29T07:39:23.945240Z",
     "start_time": "2023-07-29T07:39:23.920105Z"
    }
   },
   "outputs": [],
   "source": [
    "df.loc[df['lyrics_features']==\"\",'lyrics_features'] = np.nan"
   ]
  },
  {
   "cell_type": "code",
   "execution_count": 93,
   "id": "9ffa258f",
   "metadata": {
    "ExecuteTime": {
     "end_time": "2023-07-29T07:44:25.810678Z",
     "start_time": "2023-07-29T07:44:25.794409Z"
    }
   },
   "outputs": [],
   "source": [
    "df = df[['moods','lyrics_features']]"
   ]
  },
  {
   "cell_type": "code",
   "execution_count": 94,
   "id": "cdfd80c6",
   "metadata": {
    "ExecuteTime": {
     "end_time": "2023-07-29T07:44:27.256138Z",
     "start_time": "2023-07-29T07:44:27.223344Z"
    }
   },
   "outputs": [],
   "source": [
    "lyric_df = df.dropna()"
   ]
  },
  {
   "cell_type": "code",
   "execution_count": 95,
   "id": "f9d010a7",
   "metadata": {
    "ExecuteTime": {
     "end_time": "2023-07-29T07:44:27.680153Z",
     "start_time": "2023-07-29T07:44:27.656930Z"
    }
   },
   "outputs": [
    {
     "data": {
      "text/html": [
       "<div>\n",
       "<style scoped>\n",
       "    .dataframe tbody tr th:only-of-type {\n",
       "        vertical-align: middle;\n",
       "    }\n",
       "\n",
       "    .dataframe tbody tr th {\n",
       "        vertical-align: top;\n",
       "    }\n",
       "\n",
       "    .dataframe thead th {\n",
       "        text-align: right;\n",
       "    }\n",
       "</style>\n",
       "<table border=\"1\" class=\"dataframe\">\n",
       "  <thead>\n",
       "    <tr style=\"text-align: right;\">\n",
       "      <th></th>\n",
       "      <th>moods</th>\n",
       "      <th>lyrics_features</th>\n",
       "    </tr>\n",
       "  </thead>\n",
       "  <tbody>\n",
       "    <tr>\n",
       "      <th>0</th>\n",
       "      <td>[energetic, motivational]</td>\n",
       "      <td>oppa gangnam style gangnam style najeneun ttas...</td>\n",
       "    </tr>\n",
       "    <tr>\n",
       "      <th>1</th>\n",
       "      <td>[happy]</td>\n",
       "      <td>lately i ve been i ve been losing sleep dreami...</td>\n",
       "    </tr>\n",
       "    <tr>\n",
       "      <th>2</th>\n",
       "      <td>[happy, celebratory, rowdy]</td>\n",
       "      <td>party rock yeah woo let s go party rock is in ...</td>\n",
       "    </tr>\n",
       "    <tr>\n",
       "      <th>3</th>\n",
       "      <td>[happy, energetic, celebratory]</td>\n",
       "      <td>alagamun lan weh wakun heya hanun gon alagamun...</td>\n",
       "    </tr>\n",
       "    <tr>\n",
       "      <th>4</th>\n",
       "      <td>[energetic]</td>\n",
       "      <td>j lo the other side out my mine it s a new gen...</td>\n",
       "    </tr>\n",
       "    <tr>\n",
       "      <th>...</th>\n",
       "      <td>...</td>\n",
       "      <td>...</td>\n",
       "    </tr>\n",
       "    <tr>\n",
       "      <th>36702</th>\n",
       "      <td>[mellow]</td>\n",
       "      <td>go away from my window leave at your own chose...</td>\n",
       "    </tr>\n",
       "    <tr>\n",
       "      <th>36716</th>\n",
       "      <td>[sexual, seductive, nocturnal, lush]</td>\n",
       "      <td>thinking of you that s all i seem to do when y...</td>\n",
       "    </tr>\n",
       "    <tr>\n",
       "      <th>36720</th>\n",
       "      <td>[energetic, visceral]</td>\n",
       "      <td>hey hey ladies in the place i m callin out to ...</td>\n",
       "    </tr>\n",
       "    <tr>\n",
       "      <th>36723</th>\n",
       "      <td>[cocky]</td>\n",
       "      <td>yes yeah kayne philadelphia freeway y all know...</td>\n",
       "    </tr>\n",
       "    <tr>\n",
       "      <th>36725</th>\n",
       "      <td>[cocky, rowdy]</td>\n",
       "      <td>sup up your beer and collect your fags there s...</td>\n",
       "    </tr>\n",
       "  </tbody>\n",
       "</table>\n",
       "<p>20931 rows × 2 columns</p>\n",
       "</div>"
      ],
      "text/plain": [
       "                                      moods  \\\n",
       "0                 [energetic, motivational]   \n",
       "1                                   [happy]   \n",
       "2               [happy, celebratory, rowdy]   \n",
       "3           [happy, energetic, celebratory]   \n",
       "4                               [energetic]   \n",
       "...                                     ...   \n",
       "36702                              [mellow]   \n",
       "36716  [sexual, seductive, nocturnal, lush]   \n",
       "36720                 [energetic, visceral]   \n",
       "36723                               [cocky]   \n",
       "36725                        [cocky, rowdy]   \n",
       "\n",
       "                                         lyrics_features  \n",
       "0      oppa gangnam style gangnam style najeneun ttas...  \n",
       "1      lately i ve been i ve been losing sleep dreami...  \n",
       "2      party rock yeah woo let s go party rock is in ...  \n",
       "3      alagamun lan weh wakun heya hanun gon alagamun...  \n",
       "4      j lo the other side out my mine it s a new gen...  \n",
       "...                                                  ...  \n",
       "36702  go away from my window leave at your own chose...  \n",
       "36716  thinking of you that s all i seem to do when y...  \n",
       "36720  hey hey ladies in the place i m callin out to ...  \n",
       "36723  yes yeah kayne philadelphia freeway y all know...  \n",
       "36725  sup up your beer and collect your fags there s...  \n",
       "\n",
       "[20931 rows x 2 columns]"
      ]
     },
     "execution_count": 95,
     "metadata": {},
     "output_type": "execute_result"
    }
   ],
   "source": [
    "lyric_df"
   ]
  },
  {
   "cell_type": "code",
   "execution_count": 96,
   "id": "76436d3a",
   "metadata": {
    "ExecuteTime": {
     "end_time": "2023-07-29T07:44:32.440844Z",
     "start_time": "2023-07-29T07:44:32.429759Z"
    }
   },
   "outputs": [],
   "source": [
    "from string import punctuation\n",
    "from sklearn.feature_extraction._stop_words import ENGLISH_STOP_WORDS\n",
    "from nltk.stem.snowball import SnowballStemmer\n",
    "\n",
    "stemmer = SnowballStemmer('english')\n",
    "translator = str.maketrans('','',punctuation)\n",
    "def clean_lyrics (string):\n",
    "    string = string.lower()\n",
    "    string = string.translate(translator)\n",
    "    split_review = string.split()\n",
    "    clean_words = []\n",
    "    for x in split_review:\n",
    "        if x not in ENGLISH_STOP_WORDS:\n",
    "            clean_words.append(stemmer.stem(x))\n",
    "    final_string = \" \".join(clean_words)\n",
    "    return final_string"
   ]
  },
  {
   "cell_type": "code",
   "execution_count": 97,
   "id": "d4e241ab",
   "metadata": {
    "ExecuteTime": {
     "end_time": "2023-07-29T07:44:33.378100Z",
     "start_time": "2023-07-29T07:44:33.240074Z"
    }
   },
   "outputs": [
    {
     "data": {
      "text/plain": [
       "[sprightly]                         1941\n",
       "[funky]                             1419\n",
       "[mellow]                            1098\n",
       "[soothing]                           920\n",
       "[aggressive]                         780\n",
       "                                    ... \n",
       "[gloomy, atmospheric]                  1\n",
       "[funky, classy, nocturnal, lush]       1\n",
       "[celebratory, sexual]                  1\n",
       "[hypnotic, nocturnal]                  1\n",
       "[cold, visceral]                       1\n",
       "Name: moods, Length: 334, dtype: int64"
      ]
     },
     "execution_count": 97,
     "metadata": {},
     "output_type": "execute_result"
    }
   ],
   "source": [
    "df['moods'].value_counts()"
   ]
  },
  {
   "cell_type": "code",
   "execution_count": 98,
   "id": "b647d606",
   "metadata": {
    "ExecuteTime": {
     "end_time": "2023-07-29T07:44:36.406983Z",
     "start_time": "2023-07-29T07:44:36.382988Z"
    }
   },
   "outputs": [],
   "source": [
    "lyric_df = lyric_df[lyric_df['moods'].apply(lambda x: 'energetic' in x)]"
   ]
  },
  {
   "cell_type": "code",
   "execution_count": 99,
   "id": "3d7e8f6e",
   "metadata": {
    "ExecuteTime": {
     "end_time": "2023-07-29T07:44:36.641164Z",
     "start_time": "2023-07-29T07:44:36.617205Z"
    }
   },
   "outputs": [
    {
     "data": {
      "text/plain": [
       "[energetic]                                      418\n",
       "[energetic, celebratory]                         208\n",
       "[energetic, motivational]                        207\n",
       "[energetic, angsty]                              172\n",
       "[energetic, visceral]                            109\n",
       "[happy, energetic, celebratory]                  109\n",
       "[energetic, cold]                                109\n",
       "[energetic, angsty, rowdy]                       104\n",
       "[energetic, rowdy]                                77\n",
       "[earthy, energetic, sprightly]                    70\n",
       "[energetic, aggressive, visceral]                 64\n",
       "[energetic, raw]                                  54\n",
       "[funky, energetic]                                48\n",
       "[energetic, angsty, aggressive, trashy]           42\n",
       "[energetic, sprightly, seductive]                 36\n",
       "[energetic, rowdy, motivational]                  32\n",
       "[happy, energetic, celebratory, motivational]     32\n",
       "[happy, energetic, celebratory, raw]              32\n",
       "[happy, energetic]                                31\n",
       "[energetic, aggressive, rowdy, raw]               31\n",
       "[funky, happy, energetic]                         30\n",
       "[energetic, nocturnal]                            29\n",
       "[happy, energetic, cocky, celebratory, rowdy]     28\n",
       "[energetic, cold, visceral]                       25\n",
       "[energetic, rowdy, raw]                           24\n",
       "[energetic, cocky, visceral, motivational]        24\n",
       "[happy, energetic, raw]                           24\n",
       "[energetic, visceral, motivational]               23\n",
       "[happy, energetic, campy]                         23\n",
       "[energetic, cocky, visceral, sexual]              20\n",
       "[energetic, cold, nocturnal]                      18\n",
       "[hypnotic, energetic]                             16\n",
       "[energetic, cold, visceral, nocturnal]            10\n",
       "[happy, energetic, warm]                          10\n",
       "[earthy, energetic]                               10\n",
       "[energetic, funky, celebratory, sexual]            3\n",
       "[energetic, cold, atmospheric, nocturnal]          2\n",
       "[energetic, visceral, rowdy, motivational]         1\n",
       "Name: moods, dtype: int64"
      ]
     },
     "execution_count": 99,
     "metadata": {},
     "output_type": "execute_result"
    }
   ],
   "source": [
    "lyric_df['moods'].value_counts()"
   ]
  },
  {
   "cell_type": "code",
   "execution_count": 100,
   "id": "1f48161f",
   "metadata": {
    "ExecuteTime": {
     "end_time": "2023-07-29T07:44:40.976518Z",
     "start_time": "2023-07-29T07:44:40.972007Z"
    }
   },
   "outputs": [],
   "source": [
    "def fix(list_moods):\n",
    "    temp = []\n",
    "    for i in list_moods:\n",
    "        if i in final_moods.keys():\n",
    "            temp.append(i)\n",
    "    if len(temp)>0:\n",
    "        return temp\n",
    "    return np.nan"
   ]
  },
  {
   "cell_type": "code",
   "execution_count": 68,
   "id": "43bfa343",
   "metadata": {
    "ExecuteTime": {
     "end_time": "2023-07-29T07:34:32.610719Z",
     "start_time": "2023-07-29T07:34:32.578412Z"
    }
   },
   "outputs": [
    {
     "name": "stderr",
     "output_type": "stream",
     "text": [
      "C:\\Users\\TRONG NGHIA\\AppData\\Local\\Temp\\ipykernel_14248\\2697210924.py:1: SettingWithCopyWarning: \n",
      "A value is trying to be set on a copy of a slice from a DataFrame.\n",
      "Try using .loc[row_indexer,col_indexer] = value instead\n",
      "\n",
      "See the caveats in the documentation: https://pandas.pydata.org/pandas-docs/stable/user_guide/indexing.html#returning-a-view-versus-a-copy\n",
      "  lyric_df['moods'] = lyric_df['moods'].apply(fix)\n"
     ]
    }
   ],
   "source": [
    "lyric_df['moods'] = lyric_df['moods'].apply(fix)"
   ]
  },
  {
   "cell_type": "code",
   "execution_count": 101,
   "id": "06d88779",
   "metadata": {
    "ExecuteTime": {
     "end_time": "2023-07-29T07:44:48.914489Z",
     "start_time": "2023-07-29T07:44:42.943876Z"
    }
   },
   "outputs": [
    {
     "name": "stderr",
     "output_type": "stream",
     "text": [
      "C:\\Users\\TRONG NGHIA\\AppData\\Local\\Temp\\ipykernel_14248\\2109597058.py:1: SettingWithCopyWarning: \n",
      "A value is trying to be set on a copy of a slice from a DataFrame.\n",
      "Try using .loc[row_indexer,col_indexer] = value instead\n",
      "\n",
      "See the caveats in the documentation: https://pandas.pydata.org/pandas-docs/stable/user_guide/indexing.html#returning-a-view-versus-a-copy\n",
      "  lyric_df['lyrics_features'] = lyric_df['lyrics_features'].apply(clean_lyrics)\n"
     ]
    }
   ],
   "source": [
    "lyric_df['lyrics_features'] = lyric_df['lyrics_features'].apply(clean_lyrics)"
   ]
  },
  {
   "cell_type": "code",
   "execution_count": 103,
   "id": "8bbc355f",
   "metadata": {
    "ExecuteTime": {
     "end_time": "2023-07-29T07:45:10.272143Z",
     "start_time": "2023-07-29T07:45:10.254829Z"
    }
   },
   "outputs": [],
   "source": [
    "moods = []\n",
    "for x in lyric_df['moods']:\n",
    "    for y in x:\n",
    "        moods.append(y)"
   ]
  },
  {
   "cell_type": "code",
   "execution_count": 104,
   "id": "f097abb5",
   "metadata": {
    "ExecuteTime": {
     "end_time": "2023-07-29T07:45:11.838252Z",
     "start_time": "2023-07-29T07:45:11.814151Z"
    }
   },
   "outputs": [],
   "source": [
    "count_moods = {}\n",
    "for i in moods:\n",
    "    if i not in count_moods:\n",
    "        count_moods[i] = 1\n",
    "    else:\n",
    "        count_moods[i]+=1"
   ]
  },
  {
   "cell_type": "code",
   "execution_count": 105,
   "id": "42c0db59",
   "metadata": {
    "ExecuteTime": {
     "end_time": "2023-07-29T07:45:12.987390Z",
     "start_time": "2023-07-29T07:45:12.962120Z"
    }
   },
   "outputs": [
    {
     "data": {
      "text/plain": [
       "{'energetic': 2305,\n",
       " 'motivational': 319,\n",
       " 'happy': 319,\n",
       " 'celebratory': 412,\n",
       " 'earthy': 80,\n",
       " 'sprightly': 106,\n",
       " 'visceral': 276,\n",
       " 'angsty': 318,\n",
       " 'rowdy': 297,\n",
       " 'cold': 164,\n",
       " 'funky': 81,\n",
       " 'cocky': 72,\n",
       " 'sexual': 23,\n",
       " 'raw': 165,\n",
       " 'seductive': 36,\n",
       " 'aggressive': 137,\n",
       " 'campy': 23,\n",
       " 'nocturnal': 59,\n",
       " 'hypnotic': 16,\n",
       " 'atmospheric': 2,\n",
       " 'warm': 10,\n",
       " 'trashy': 42}"
      ]
     },
     "execution_count": 105,
     "metadata": {},
     "output_type": "execute_result"
    }
   ],
   "source": [
    "count_moods"
   ]
  },
  {
   "cell_type": "code",
   "execution_count": 123,
   "id": "44e14ccc",
   "metadata": {
    "ExecuteTime": {
     "end_time": "2023-07-29T07:48:17.925571Z",
     "start_time": "2023-07-29T07:48:17.917429Z"
    }
   },
   "outputs": [],
   "source": [
    "final_moods = {}\n",
    "for x in count_moods:\n",
    "    if count_moods[x]>200:\n",
    "        final_moods[x] = count_moods[x]"
   ]
  },
  {
   "cell_type": "code",
   "execution_count": 124,
   "id": "e2181223",
   "metadata": {
    "ExecuteTime": {
     "end_time": "2023-07-29T07:48:18.688070Z",
     "start_time": "2023-07-29T07:48:18.680809Z"
    }
   },
   "outputs": [
    {
     "data": {
      "text/plain": [
       "{'energetic': 2305,\n",
       " 'motivational': 319,\n",
       " 'happy': 319,\n",
       " 'celebratory': 412,\n",
       " 'visceral': 276,\n",
       " 'angsty': 318,\n",
       " 'rowdy': 297}"
      ]
     },
     "execution_count": 124,
     "metadata": {},
     "output_type": "execute_result"
    }
   ],
   "source": [
    "final_moods"
   ]
  },
  {
   "cell_type": "code",
   "execution_count": 125,
   "id": "261f0cd2",
   "metadata": {
    "ExecuteTime": {
     "end_time": "2023-07-29T07:48:23.978085Z",
     "start_time": "2023-07-29T07:48:23.946331Z"
    }
   },
   "outputs": [
    {
     "name": "stderr",
     "output_type": "stream",
     "text": [
      "C:\\Users\\TRONG NGHIA\\AppData\\Local\\Temp\\ipykernel_14248\\3439728472.py:1: SettingWithCopyWarning: \n",
      "A value is trying to be set on a copy of a slice from a DataFrame\n",
      "\n",
      "See the caveats in the documentation: https://pandas.pydata.org/pandas-docs/stable/user_guide/indexing.html#returning-a-view-versus-a-copy\n",
      "  main_moods_df = lyric_df.dropna(inplace=True)\n"
     ]
    }
   ],
   "source": [
    "main_moods_df = lyric_df.dropna(inplace=True)"
   ]
  },
  {
   "cell_type": "code",
   "execution_count": 131,
   "id": "343c76b7",
   "metadata": {
    "ExecuteTime": {
     "end_time": "2023-07-29T07:48:52.944196Z",
     "start_time": "2023-07-29T07:48:52.927987Z"
    }
   },
   "outputs": [],
   "source": [
    "main_moods_df = lyric_df"
   ]
  },
  {
   "cell_type": "code",
   "execution_count": 128,
   "id": "4444be61",
   "metadata": {
    "ExecuteTime": {
     "end_time": "2023-07-29T07:48:44.040793Z",
     "start_time": "2023-07-29T07:48:44.024812Z"
    }
   },
   "outputs": [
    {
     "data": {
      "text/html": [
       "<div>\n",
       "<style scoped>\n",
       "    .dataframe tbody tr th:only-of-type {\n",
       "        vertical-align: middle;\n",
       "    }\n",
       "\n",
       "    .dataframe tbody tr th {\n",
       "        vertical-align: top;\n",
       "    }\n",
       "\n",
       "    .dataframe thead th {\n",
       "        text-align: right;\n",
       "    }\n",
       "</style>\n",
       "<table border=\"1\" class=\"dataframe\">\n",
       "  <thead>\n",
       "    <tr style=\"text-align: right;\">\n",
       "      <th></th>\n",
       "      <th>moods</th>\n",
       "      <th>lyrics_features</th>\n",
       "    </tr>\n",
       "  </thead>\n",
       "  <tbody>\n",
       "    <tr>\n",
       "      <th>0</th>\n",
       "      <td>[energetic, motivational]</td>\n",
       "      <td>oppa gangnam style gangnam style najeneun ttas...</td>\n",
       "    </tr>\n",
       "    <tr>\n",
       "      <th>3</th>\n",
       "      <td>[happy, energetic, celebratory]</td>\n",
       "      <td>alagamun lan weh wakun heya hanun gon alagamun...</td>\n",
       "    </tr>\n",
       "    <tr>\n",
       "      <th>4</th>\n",
       "      <td>[energetic]</td>\n",
       "      <td>j lo s new generat mr worldwid parti peopl flo...</td>\n",
       "    </tr>\n",
       "    <tr>\n",
       "      <th>7</th>\n",
       "      <td>[energetic, motivational]</td>\n",
       "      <td>threw wish don t ask ll tell look fell way tra...</td>\n",
       "    </tr>\n",
       "    <tr>\n",
       "      <th>11</th>\n",
       "      <td>[energetic, celebratory]</td>\n",
       "      <td>shine bright like diamond shine bright like di...</td>\n",
       "    </tr>\n",
       "    <tr>\n",
       "      <th>...</th>\n",
       "      <td>...</td>\n",
       "      <td>...</td>\n",
       "    </tr>\n",
       "    <tr>\n",
       "      <th>36246</th>\n",
       "      <td>[energetic]</td>\n",
       "      <td>littl tin soldier want jump look eye dream pas...</td>\n",
       "    </tr>\n",
       "    <tr>\n",
       "      <th>36312</th>\n",
       "      <td>[energetic, cold, visceral]</td>\n",
       "      <td>day pray pray die just don t fuck care hope to...</td>\n",
       "    </tr>\n",
       "    <tr>\n",
       "      <th>36318</th>\n",
       "      <td>[energetic, angsty, aggressive, trashy]</td>\n",
       "      <td>makeup counter non stick pad cat bed hardwar c...</td>\n",
       "    </tr>\n",
       "    <tr>\n",
       "      <th>36419</th>\n",
       "      <td>[energetic]</td>\n",
       "      <td>dont want love factori aint machin babi im hum...</td>\n",
       "    </tr>\n",
       "    <tr>\n",
       "      <th>36720</th>\n",
       "      <td>[energetic, visceral]</td>\n",
       "      <td>hey hey ladi place m callin ya citi kid truer ...</td>\n",
       "    </tr>\n",
       "  </tbody>\n",
       "</table>\n",
       "<p>2305 rows × 2 columns</p>\n",
       "</div>"
      ],
      "text/plain": [
       "                                         moods  \\\n",
       "0                    [energetic, motivational]   \n",
       "3              [happy, energetic, celebratory]   \n",
       "4                                  [energetic]   \n",
       "7                    [energetic, motivational]   \n",
       "11                    [energetic, celebratory]   \n",
       "...                                        ...   \n",
       "36246                              [energetic]   \n",
       "36312              [energetic, cold, visceral]   \n",
       "36318  [energetic, angsty, aggressive, trashy]   \n",
       "36419                              [energetic]   \n",
       "36720                    [energetic, visceral]   \n",
       "\n",
       "                                         lyrics_features  \n",
       "0      oppa gangnam style gangnam style najeneun ttas...  \n",
       "3      alagamun lan weh wakun heya hanun gon alagamun...  \n",
       "4      j lo s new generat mr worldwid parti peopl flo...  \n",
       "7      threw wish don t ask ll tell look fell way tra...  \n",
       "11     shine bright like diamond shine bright like di...  \n",
       "...                                                  ...  \n",
       "36246  littl tin soldier want jump look eye dream pas...  \n",
       "36312  day pray pray die just don t fuck care hope to...  \n",
       "36318  makeup counter non stick pad cat bed hardwar c...  \n",
       "36419  dont want love factori aint machin babi im hum...  \n",
       "36720  hey hey ladi place m callin ya citi kid truer ...  \n",
       "\n",
       "[2305 rows x 2 columns]"
      ]
     },
     "execution_count": 128,
     "metadata": {},
     "output_type": "execute_result"
    }
   ],
   "source": [
    "lyric_df"
   ]
  },
  {
   "cell_type": "code",
   "execution_count": 129,
   "id": "4d414092",
   "metadata": {
    "ExecuteTime": {
     "end_time": "2023-07-29T07:48:49.059930Z",
     "start_time": "2023-07-29T07:48:49.043488Z"
    }
   },
   "outputs": [],
   "source": [
    "from sklearn.ensemble import RandomForestClassifier\n",
    "rfc_multi = RandomForestClassifier()"
   ]
  },
  {
   "cell_type": "code",
   "execution_count": 130,
   "id": "37328300",
   "metadata": {
    "ExecuteTime": {
     "end_time": "2023-07-29T07:48:49.197690Z",
     "start_time": "2023-07-29T07:48:49.173209Z"
    }
   },
   "outputs": [],
   "source": [
    "from sklearn.preprocessing import MultiLabelBinarizer\n",
    "mlb = MultiLabelBinarizer()"
   ]
  },
  {
   "cell_type": "code",
   "execution_count": 132,
   "id": "0e6a947a",
   "metadata": {
    "ExecuteTime": {
     "end_time": "2023-07-29T07:48:55.894673Z",
     "start_time": "2023-07-29T07:48:55.878419Z"
    }
   },
   "outputs": [],
   "source": [
    "lyrics_data = main_moods_df['lyrics_features']"
   ]
  },
  {
   "cell_type": "code",
   "execution_count": 133,
   "id": "4b287298",
   "metadata": {
    "ExecuteTime": {
     "end_time": "2023-07-29T07:48:57.090420Z",
     "start_time": "2023-07-29T07:48:57.082392Z"
    }
   },
   "outputs": [],
   "source": [
    "from sklearn.feature_extraction.text import TfidfVectorizer\n",
    "tfidf_vec = TfidfVectorizer()"
   ]
  },
  {
   "cell_type": "code",
   "execution_count": 134,
   "id": "5d08f64d",
   "metadata": {
    "ExecuteTime": {
     "end_time": "2023-07-29T07:48:57.658905Z",
     "start_time": "2023-07-29T07:48:57.220288Z"
    }
   },
   "outputs": [],
   "source": [
    "tf_idf = tfidf_vec.fit_transform(lyrics_data)"
   ]
  },
  {
   "cell_type": "code",
   "execution_count": 135,
   "id": "a101a51a",
   "metadata": {
    "ExecuteTime": {
     "end_time": "2023-07-29T07:49:00.897454Z",
     "start_time": "2023-07-29T07:49:00.890050Z"
    }
   },
   "outputs": [],
   "source": [
    "label = main_moods_df['moods']"
   ]
  },
  {
   "cell_type": "code",
   "execution_count": 136,
   "id": "2913e287",
   "metadata": {
    "ExecuteTime": {
     "end_time": "2023-07-29T07:49:01.156763Z",
     "start_time": "2023-07-29T07:49:01.126851Z"
    }
   },
   "outputs": [],
   "source": [
    "y = mlb.fit_transform(label)"
   ]
  },
  {
   "cell_type": "code",
   "execution_count": 137,
   "id": "b96f825f",
   "metadata": {
    "ExecuteTime": {
     "end_time": "2023-07-29T07:49:01.355196Z",
     "start_time": "2023-07-29T07:49:01.330817Z"
    }
   },
   "outputs": [
    {
     "data": {
      "text/plain": [
       "array(['aggressive', 'angsty', 'atmospheric', 'campy', 'celebratory',\n",
       "       'cocky', 'cold', 'earthy', 'energetic', 'funky', 'happy',\n",
       "       'hypnotic', 'motivational', 'nocturnal', 'raw', 'rowdy',\n",
       "       'seductive', 'sexual', 'sprightly', 'trashy', 'visceral', 'warm'],\n",
       "      dtype=object)"
      ]
     },
     "execution_count": 137,
     "metadata": {},
     "output_type": "execute_result"
    }
   ],
   "source": [
    "mlb.classes_"
   ]
  },
  {
   "cell_type": "code",
   "execution_count": 138,
   "id": "db79e589",
   "metadata": {
    "ExecuteTime": {
     "end_time": "2023-07-29T07:49:01.543347Z",
     "start_time": "2023-07-29T07:49:01.535246Z"
    }
   },
   "outputs": [],
   "source": [
    "from sklearn.model_selection import train_test_split"
   ]
  },
  {
   "cell_type": "code",
   "execution_count": 139,
   "id": "127bc92d",
   "metadata": {
    "ExecuteTime": {
     "end_time": "2023-07-29T07:49:03.079759Z",
     "start_time": "2023-07-29T07:49:03.055633Z"
    }
   },
   "outputs": [],
   "source": [
    "X_train, X_test, y_train, y_test = train_test_split(tf_idf, y, test_size = 0.3, random_state = 101)"
   ]
  },
  {
   "cell_type": "code",
   "execution_count": 140,
   "id": "a37b4362",
   "metadata": {
    "ExecuteTime": {
     "end_time": "2023-07-29T07:49:10.592647Z",
     "start_time": "2023-07-29T07:49:03.217830Z"
    }
   },
   "outputs": [
    {
     "data": {
      "text/plain": [
       "RandomForestClassifier()"
      ]
     },
     "execution_count": 140,
     "metadata": {},
     "output_type": "execute_result"
    }
   ],
   "source": [
    "rfc_multi.fit(X_train, y_train)"
   ]
  },
  {
   "cell_type": "code",
   "execution_count": 141,
   "id": "040980c2",
   "metadata": {
    "ExecuteTime": {
     "end_time": "2023-07-29T07:49:11.848029Z",
     "start_time": "2023-07-29T07:49:11.612560Z"
    }
   },
   "outputs": [],
   "source": [
    "predictions = rfc_multi.predict(X_test)"
   ]
  },
  {
   "cell_type": "code",
   "execution_count": 142,
   "id": "93e718e8",
   "metadata": {
    "ExecuteTime": {
     "end_time": "2023-07-29T07:49:12.941982Z",
     "start_time": "2023-07-29T07:49:12.915446Z"
    }
   },
   "outputs": [
    {
     "name": "stdout",
     "output_type": "stream",
     "text": [
      "0.20520231213872833\n"
     ]
    }
   ],
   "source": [
    "print(accuracy_score(y_test, predictions))"
   ]
  },
  {
   "cell_type": "code",
   "execution_count": 143,
   "id": "a7f0236e",
   "metadata": {
    "ExecuteTime": {
     "end_time": "2023-07-29T07:49:15.290529Z",
     "start_time": "2023-07-29T07:49:15.266276Z"
    }
   },
   "outputs": [],
   "source": [
    "import pandas as pd\n",
    "import pickle\n",
    "from sklearn.datasets import load_diabetes"
   ]
  },
  {
   "cell_type": "code",
   "execution_count": 144,
   "id": "0babfc76",
   "metadata": {
    "ExecuteTime": {
     "end_time": "2023-07-29T07:49:17.169731Z",
     "start_time": "2023-07-29T07:49:17.056674Z"
    }
   },
   "outputs": [],
   "source": [
    "pickle.dump(rfc_multi, open('model_lyrics.pkl', 'wb'))"
   ]
  },
  {
   "cell_type": "code",
   "execution_count": 145,
   "id": "35f553e5",
   "metadata": {
    "ExecuteTime": {
     "end_time": "2023-07-29T07:49:18.075856Z",
     "start_time": "2023-07-29T07:49:18.060329Z"
    }
   },
   "outputs": [],
   "source": [
    "string = 'saturday mornin jumped outta bed and put on my best suit got in my car and raced like a jet all the way to you knocked on your door with heart in my hand to ask you a question cause i know that youre an oldfashioned man yeah yeah  pre  can i have your daughter for the rest of my life say yes say yes cause i need to know you say ill never get your blessin till the day i die tough luck my friend but the answer is no why you gotta be so rude dont you know im human too why you gotta be so rude im gonna marry her anyway marry that girl marry her anyway marry that girl yeah no matter what you say marry that girl and well be a family why you gotta be so rude i hate to do this you leave no choice cant live without her love me or hate me we will be both standin at that altar or we will run away to another galaxy you know you know shes in love with me she will go anywhere i go you might also likepre  can i have your daughter for the rest of my life say yes say yes cause i need to know you say ill never get your blessin till the day i die tough luck my friend cause the answers still no why you gotta be so rude dont you know im human too why you gotta be so rude im gonna marry her anyway marry that girl marry her anyway marry that girl no matter what you say marry that girl and well be a family why you gotta be so rude rude why you gotta be so–  bridge can i have your daughter for the rest of my life say yes say yes cause i need to know you say ill never get your blessin till the day i die tough luck my friend but no still means no why you gotta be so rude dont you know im human too why you gotta be so rude im gonna marry her anyway marry that girl marry her anyway marry that girl no matter what you say marry that girl and well be a family why you gotta be so rude why why why why say say why you gotta be so'"
   ]
  },
  {
   "cell_type": "code",
   "execution_count": 146,
   "id": "b90634d1",
   "metadata": {
    "ExecuteTime": {
     "end_time": "2023-07-29T07:49:18.259539Z",
     "start_time": "2023-07-29T07:49:18.242748Z"
    }
   },
   "outputs": [],
   "source": [
    "values = tfidf_vec.transform([string])"
   ]
  },
  {
   "cell_type": "code",
   "execution_count": 147,
   "id": "c1f34ee4",
   "metadata": {
    "ExecuteTime": {
     "end_time": "2023-07-29T07:49:18.669638Z",
     "start_time": "2023-07-29T07:49:18.629174Z"
    }
   },
   "outputs": [],
   "source": [
    "pickle.dump(tfidf_vec, open(\"tfidf_vec.pkl\",\"wb\"))\n",
    "pickle.dump(tf_idf, open(\"tfidf.pkl\",\"wb\"))"
   ]
  },
  {
   "cell_type": "code",
   "execution_count": 149,
   "id": "d4dd0e4b",
   "metadata": {
    "ExecuteTime": {
     "end_time": "2023-07-29T07:49:21.014818Z",
     "start_time": "2023-07-29T07:49:20.998502Z"
    }
   },
   "outputs": [
    {
     "name": "stdout",
     "output_type": "stream",
     "text": [
      "TfidfVectorizer()\n"
     ]
    }
   ],
   "source": [
    "print(tfidf_vec)"
   ]
  },
  {
   "cell_type": "code",
   "execution_count": 150,
   "id": "6ef3da1b",
   "metadata": {
    "ExecuteTime": {
     "end_time": "2023-07-29T07:49:21.580690Z",
     "start_time": "2023-07-29T07:49:21.572613Z"
    }
   },
   "outputs": [],
   "source": [
    "pickle.dump(mlb, open(\"mlb.pkl\",\"wb\"))"
   ]
  },
  {
   "cell_type": "code",
   "execution_count": 151,
   "id": "8470d876",
   "metadata": {
    "ExecuteTime": {
     "end_time": "2023-07-29T07:49:22.612056Z",
     "start_time": "2023-07-29T07:49:22.600789Z"
    }
   },
   "outputs": [],
   "source": [
    "import numpy as np"
   ]
  },
  {
   "cell_type": "code",
   "execution_count": 152,
   "id": "f4b8b052",
   "metadata": {
    "ExecuteTime": {
     "end_time": "2023-07-29T07:49:22.822428Z",
     "start_time": "2023-07-29T07:49:22.806127Z"
    }
   },
   "outputs": [],
   "source": [
    "def is_in(li,list_moods):\n",
    "    for x in li:\n",
    "        if x in list_moods:\n",
    "            return li\n",
    "    return np.nan"
   ]
  },
  {
   "cell_type": "code",
   "execution_count": 153,
   "id": "5cee7d17",
   "metadata": {
    "ExecuteTime": {
     "end_time": "2023-07-29T07:49:23.471413Z",
     "start_time": "2023-07-29T07:49:23.454907Z"
    }
   },
   "outputs": [],
   "source": [
    "def get_similar_song(list_moods, genres):\n",
    "    temp_df = pd.read_json('MasterSongList.json')\n",
    "    temp_df['genres'] = temp_df['genres'].apply(lambda x: \"\".join(x))\n",
    "    new_df = temp_df[temp_df['genres']==genres]\n",
    "    new_df['moods'] = new_df['moods'].apply(lambda x: is_in(x,list_moods))\n",
    "    return new_df"
   ]
  },
  {
   "cell_type": "code",
   "execution_count": 154,
   "id": "523f87f8",
   "metadata": {
    "ExecuteTime": {
     "end_time": "2023-07-29T07:49:29.258633Z",
     "start_time": "2023-07-29T07:49:25.584958Z"
    }
   },
   "outputs": [
    {
     "name": "stderr",
     "output_type": "stream",
     "text": [
      "C:\\Users\\TRONG NGHIA\\AppData\\Local\\Temp\\ipykernel_14248\\4249095320.py:5: SettingWithCopyWarning: \n",
      "A value is trying to be set on a copy of a slice from a DataFrame.\n",
      "Try using .loc[row_indexer,col_indexer] = value instead\n",
      "\n",
      "See the caveats in the documentation: https://pandas.pydata.org/pandas-docs/stable/user_guide/indexing.html#returning-a-view-versus-a-copy\n",
      "  new_df['moods'] = new_df['moods'].apply(lambda x: is_in(x,list_moods))\n"
     ]
    },
    {
     "data": {
      "text/html": [
       "<div>\n",
       "<style scoped>\n",
       "    .dataframe tbody tr th:only-of-type {\n",
       "        vertical-align: middle;\n",
       "    }\n",
       "\n",
       "    .dataframe tbody tr th {\n",
       "        vertical-align: top;\n",
       "    }\n",
       "\n",
       "    .dataframe thead th {\n",
       "        text-align: right;\n",
       "    }\n",
       "</style>\n",
       "<table border=\"1\" class=\"dataframe\">\n",
       "  <thead>\n",
       "    <tr style=\"text-align: right;\">\n",
       "      <th></th>\n",
       "      <th>album</th>\n",
       "      <th>picture</th>\n",
       "      <th>genres</th>\n",
       "      <th>name</th>\n",
       "      <th>artist</th>\n",
       "      <th>yt_id</th>\n",
       "      <th>yt_views</th>\n",
       "      <th>audio_features</th>\n",
       "      <th>sub_context</th>\n",
       "      <th>moods</th>\n",
       "      <th>context</th>\n",
       "      <th>recording_id</th>\n",
       "      <th>lyrics_features</th>\n",
       "      <th>_id</th>\n",
       "      <th>decades</th>\n",
       "      <th>new_context</th>\n",
       "    </tr>\n",
       "  </thead>\n",
       "  <tbody>\n",
       "    <tr>\n",
       "      <th>30</th>\n",
       "      <td>If I Were A Boy/Single Ladies</td>\n",
       "      <td>http://images.musicnet.com/albums/019/117/707/...</td>\n",
       "      <td>r&amp;b</td>\n",
       "      <td>Single Ladies (Put A Ring On It)</td>\n",
       "      <td>Beyoncé</td>\n",
       "      <td>4m1EFMoRFvY</td>\n",
       "      <td>434484715</td>\n",
       "      <td>[1, 0.613807, 0.226733, 193.358, 0.288888, 0.0...</td>\n",
       "      <td>[girls night out]</td>\n",
       "      <td>NaN</td>\n",
       "      <td>[party]</td>\n",
       "      <td>3726.0</td>\n",
       "      <td>[all, the, single, ladies, all, the, single, l...</td>\n",
       "      <td>{'$oid': '52fdfb3e0b9398049f3ccb45'}</td>\n",
       "      <td>[]</td>\n",
       "      <td>party</td>\n",
       "    </tr>\n",
       "    <tr>\n",
       "      <th>50</th>\n",
       "      <td>Halo/Diva</td>\n",
       "      <td>http://images.musicnet.com/albums/026/924/959/...</td>\n",
       "      <td>r&amp;b</td>\n",
       "      <td>Halo</td>\n",
       "      <td>Beyoncé</td>\n",
       "      <td>bnVUHWCynig</td>\n",
       "      <td>325958576</td>\n",
       "      <td>[11, 0.7200329999999999, 0.056323, 79.983, 0.0...</td>\n",
       "      <td>[getting lucky]</td>\n",
       "      <td>NaN</td>\n",
       "      <td>[sexy]</td>\n",
       "      <td>73440.0</td>\n",
       "      <td>[remember, those, walls, i, built, well, baby,...</td>\n",
       "      <td>{'$oid': '52fdfb430b9398049f3d4c41'}</td>\n",
       "      <td>[2010s]</td>\n",
       "      <td>sexy</td>\n",
       "    </tr>\n",
       "    <tr>\n",
       "      <th>61</th>\n",
       "      <td>B.o.B Presents: The Adventures Of Bobby Ray</td>\n",
       "      <td>http://images.musicnet.com/albums/039/519/219/...</td>\n",
       "      <td>r&amp;b</td>\n",
       "      <td>Airplanes (Feat. Hayley Williams Of Paramore)</td>\n",
       "      <td>B.o.B</td>\n",
       "      <td>kn6-c223DUU</td>\n",
       "      <td>295253751</td>\n",
       "      <td>[6, 0.8552639999999999, 0.038142999999999996, ...</td>\n",
       "      <td>NaN</td>\n",
       "      <td>NaN</td>\n",
       "      <td>[funky]</td>\n",
       "      <td>78186.0</td>\n",
       "      <td>[]</td>\n",
       "      <td>{'$oid': '52fdfb470b9398049f3db341'}</td>\n",
       "      <td>[]</td>\n",
       "      <td>NaN</td>\n",
       "    </tr>\n",
       "    <tr>\n",
       "      <th>64</th>\n",
       "      <td>Run The World (Girls)</td>\n",
       "      <td>http://images.musicnet.com/albums/073/441/943/...</td>\n",
       "      <td>r&amp;b</td>\n",
       "      <td>Run The World (Girls)</td>\n",
       "      <td>Beyoncé</td>\n",
       "      <td>VBmMU_iwe6U</td>\n",
       "      <td>282306211</td>\n",
       "      <td>[0, 0.8994169999999999, 0.37197199999999997, 1...</td>\n",
       "      <td>[grinding at a nightclub, getting lucky]</td>\n",
       "      <td>NaN</td>\n",
       "      <td>[party, party]</td>\n",
       "      <td>9765.0</td>\n",
       "      <td>[girls, we, run, this, mutha, yeah, girls, we,...</td>\n",
       "      <td>{'$oid': '52fdfb3e0b9398049f3ccc3a'}</td>\n",
       "      <td>[]</td>\n",
       "      <td>sexy</td>\n",
       "    </tr>\n",
       "    <tr>\n",
       "      <th>78</th>\n",
       "      <td>A Girl Like Me (CD Full Length)</td>\n",
       "      <td>http://images.musicnet.com/albums/007/082/405/...</td>\n",
       "      <td>r&amp;b</td>\n",
       "      <td>Unfaithful</td>\n",
       "      <td>Rihanna</td>\n",
       "      <td>rp4UwPZfRis</td>\n",
       "      <td>238170105</td>\n",
       "      <td>[7, 0.8178500000000001, 0.157003, 133.025, 0.0...</td>\n",
       "      <td>[girls night out, getting lucky, housework, da...</td>\n",
       "      <td>NaN</td>\n",
       "      <td>[party, party, party, party, party]</td>\n",
       "      <td>39469.0</td>\n",
       "      <td>[story, of, my, life, searching, for, the, rig...</td>\n",
       "      <td>{'$oid': '52fdfb450b9398049f3d89f9'}</td>\n",
       "      <td>[2000s]</td>\n",
       "      <td>housework</td>\n",
       "    </tr>\n",
       "    <tr>\n",
       "      <th>...</th>\n",
       "      <td>...</td>\n",
       "      <td>...</td>\n",
       "      <td>...</td>\n",
       "      <td>...</td>\n",
       "      <td>...</td>\n",
       "      <td>...</td>\n",
       "      <td>...</td>\n",
       "      <td>...</td>\n",
       "      <td>...</td>\n",
       "      <td>...</td>\n",
       "      <td>...</td>\n",
       "      <td>...</td>\n",
       "      <td>...</td>\n",
       "      <td>...</td>\n",
       "      <td>...</td>\n",
       "      <td>...</td>\n",
       "    </tr>\n",
       "    <tr>\n",
       "      <th>35439</th>\n",
       "      <td>Concrete Law (Parental Advisory)</td>\n",
       "      <td>http://images.musicnet.com/albums/000/689/771/...</td>\n",
       "      <td>r&amp;b</td>\n",
       "      <td>Jump Back</td>\n",
       "      <td>BackBone</td>\n",
       "      <td>0k4JD8-HGwE</td>\n",
       "      <td>429</td>\n",
       "      <td>[6, 0.580453, 0.214618, 96.419, 0.374316, 0.03...</td>\n",
       "      <td>[lying low on a sunday afternoon, city cruising]</td>\n",
       "      <td>NaN</td>\n",
       "      <td>[relax, relax]</td>\n",
       "      <td>20980.0</td>\n",
       "      <td>[now, i, m, give, it, to, ya, straight, gram, ...</td>\n",
       "      <td>{'$oid': '52fdfb400b9398049f3d0fc3'}</td>\n",
       "      <td>[1990s]</td>\n",
       "      <td>driving</td>\n",
       "    </tr>\n",
       "    <tr>\n",
       "      <th>36031</th>\n",
       "      <td>Two</td>\n",
       "      <td>http://images.musicnet.com/albums/048/171/165/...</td>\n",
       "      <td>r&amp;b</td>\n",
       "      <td>Work It Out</td>\n",
       "      <td>Kotchy</td>\n",
       "      <td>WXVcC2mxlU0</td>\n",
       "      <td>213</td>\n",
       "      <td>[11, 0.275062, 0.068745, 85.022, 0.10993399999...</td>\n",
       "      <td>[sexual]</td>\n",
       "      <td>NaN</td>\n",
       "      <td>[sexy]</td>\n",
       "      <td>69919.0</td>\n",
       "      <td>[]</td>\n",
       "      <td>{'$oid': '52fdfb440b9398049f3d6c07'}</td>\n",
       "      <td>[]</td>\n",
       "      <td>sexy</td>\n",
       "    </tr>\n",
       "    <tr>\n",
       "      <th>36666</th>\n",
       "      <td>Nona Hendryx</td>\n",
       "      <td>http://images.musicnet.com/albums/071/193/297/...</td>\n",
       "      <td>r&amp;b</td>\n",
       "      <td>Problem</td>\n",
       "      <td>Nona Hendryx</td>\n",
       "      <td>Ed1-6muTgIU</td>\n",
       "      <td>24</td>\n",
       "      <td>[]</td>\n",
       "      <td>[city cruising]</td>\n",
       "      <td>NaN</td>\n",
       "      <td>[rush hour]</td>\n",
       "      <td>NaN</td>\n",
       "      <td>[]</td>\n",
       "      <td>{'$oid': '52fdfb420b9398049f3d3adb'}</td>\n",
       "      <td>[]</td>\n",
       "      <td>driving</td>\n",
       "    </tr>\n",
       "    <tr>\n",
       "      <th>36688</th>\n",
       "      <td>I Do Not Want What I Haven't Got (Special Edit...</td>\n",
       "      <td>http://images.musicnet.com/albums/028/025/657/...</td>\n",
       "      <td>r&amp;b</td>\n",
       "      <td>Nothing Compares 2 U (2009 Digital Remaster)</td>\n",
       "      <td>Sinéad O'Connor</td>\n",
       "      <td>T2_5rhtprKk</td>\n",
       "      <td>18</td>\n",
       "      <td>[]</td>\n",
       "      <td>NaN</td>\n",
       "      <td>NaN</td>\n",
       "      <td>[funky, lush]</td>\n",
       "      <td>70342.0</td>\n",
       "      <td>[it, s, been, seven, hours, and, fifteen, days...</td>\n",
       "      <td>{'$oid': '52fdfb440b9398049f3d6f46'}</td>\n",
       "      <td>[1990s]</td>\n",
       "      <td>NaN</td>\n",
       "    </tr>\n",
       "    <tr>\n",
       "      <th>36716</th>\n",
       "      <td>Kissing You (Re-Recorded / Remastered)</td>\n",
       "      <td>http://images.musicnet.com/albums/046/861/775/...</td>\n",
       "      <td>r&amp;b</td>\n",
       "      <td>Kissing You (Re-Recorded / Remastered)</td>\n",
       "      <td>Keith Washington</td>\n",
       "      <td>tn3TFDah9ZQ</td>\n",
       "      <td>10</td>\n",
       "      <td>[]</td>\n",
       "      <td>[stripping, getting lucky, slow dancing]</td>\n",
       "      <td>NaN</td>\n",
       "      <td>[sexy, sexy, sexy]</td>\n",
       "      <td>NaN</td>\n",
       "      <td>[thinking, of, you, that, s, all, i, seem, to,...</td>\n",
       "      <td>{'$oid': '52fdfb420b9398049f3d3a51'}</td>\n",
       "      <td>[1990s]</td>\n",
       "      <td>sexy</td>\n",
       "    </tr>\n",
       "  </tbody>\n",
       "</table>\n",
       "<p>923 rows × 16 columns</p>\n",
       "</div>"
      ],
      "text/plain": [
       "                                                   album  \\\n",
       "30                         If I Were A Boy/Single Ladies   \n",
       "50                                             Halo/Diva   \n",
       "61           B.o.B Presents: The Adventures Of Bobby Ray   \n",
       "64                                 Run The World (Girls)   \n",
       "78                       A Girl Like Me (CD Full Length)   \n",
       "...                                                  ...   \n",
       "35439                   Concrete Law (Parental Advisory)   \n",
       "36031                                                Two   \n",
       "36666                                       Nona Hendryx   \n",
       "36688  I Do Not Want What I Haven't Got (Special Edit...   \n",
       "36716             Kissing You (Re-Recorded / Remastered)   \n",
       "\n",
       "                                                 picture genres  \\\n",
       "30     http://images.musicnet.com/albums/019/117/707/...    r&b   \n",
       "50     http://images.musicnet.com/albums/026/924/959/...    r&b   \n",
       "61     http://images.musicnet.com/albums/039/519/219/...    r&b   \n",
       "64     http://images.musicnet.com/albums/073/441/943/...    r&b   \n",
       "78     http://images.musicnet.com/albums/007/082/405/...    r&b   \n",
       "...                                                  ...    ...   \n",
       "35439  http://images.musicnet.com/albums/000/689/771/...    r&b   \n",
       "36031  http://images.musicnet.com/albums/048/171/165/...    r&b   \n",
       "36666  http://images.musicnet.com/albums/071/193/297/...    r&b   \n",
       "36688  http://images.musicnet.com/albums/028/025/657/...    r&b   \n",
       "36716  http://images.musicnet.com/albums/046/861/775/...    r&b   \n",
       "\n",
       "                                                name            artist  \\\n",
       "30                  Single Ladies (Put A Ring On It)           Beyoncé   \n",
       "50                                              Halo           Beyoncé   \n",
       "61     Airplanes (Feat. Hayley Williams Of Paramore)             B.o.B   \n",
       "64                             Run The World (Girls)           Beyoncé   \n",
       "78                                        Unfaithful           Rihanna   \n",
       "...                                              ...               ...   \n",
       "35439                                      Jump Back          BackBone   \n",
       "36031                                    Work It Out            Kotchy   \n",
       "36666                                        Problem      Nona Hendryx   \n",
       "36688   Nothing Compares 2 U (2009 Digital Remaster)   Sinéad O'Connor   \n",
       "36716         Kissing You (Re-Recorded / Remastered)  Keith Washington   \n",
       "\n",
       "             yt_id   yt_views  \\\n",
       "30     4m1EFMoRFvY  434484715   \n",
       "50     bnVUHWCynig  325958576   \n",
       "61     kn6-c223DUU  295253751   \n",
       "64     VBmMU_iwe6U  282306211   \n",
       "78     rp4UwPZfRis  238170105   \n",
       "...            ...        ...   \n",
       "35439  0k4JD8-HGwE        429   \n",
       "36031  WXVcC2mxlU0        213   \n",
       "36666  Ed1-6muTgIU         24   \n",
       "36688  T2_5rhtprKk         18   \n",
       "36716  tn3TFDah9ZQ         10   \n",
       "\n",
       "                                          audio_features  \\\n",
       "30     [1, 0.613807, 0.226733, 193.358, 0.288888, 0.0...   \n",
       "50     [11, 0.7200329999999999, 0.056323, 79.983, 0.0...   \n",
       "61     [6, 0.8552639999999999, 0.038142999999999996, ...   \n",
       "64     [0, 0.8994169999999999, 0.37197199999999997, 1...   \n",
       "78     [7, 0.8178500000000001, 0.157003, 133.025, 0.0...   \n",
       "...                                                  ...   \n",
       "35439  [6, 0.580453, 0.214618, 96.419, 0.374316, 0.03...   \n",
       "36031  [11, 0.275062, 0.068745, 85.022, 0.10993399999...   \n",
       "36666                                                 []   \n",
       "36688                                                 []   \n",
       "36716                                                 []   \n",
       "\n",
       "                                             sub_context  moods  \\\n",
       "30                                     [girls night out]    NaN   \n",
       "50                                       [getting lucky]    NaN   \n",
       "61                                                   NaN    NaN   \n",
       "64              [grinding at a nightclub, getting lucky]    NaN   \n",
       "78     [girls night out, getting lucky, housework, da...    NaN   \n",
       "...                                                  ...    ...   \n",
       "35439   [lying low on a sunday afternoon, city cruising]    NaN   \n",
       "36031                                           [sexual]    NaN   \n",
       "36666                                    [city cruising]    NaN   \n",
       "36688                                                NaN    NaN   \n",
       "36716           [stripping, getting lucky, slow dancing]    NaN   \n",
       "\n",
       "                                   context  recording_id  \\\n",
       "30                                 [party]        3726.0   \n",
       "50                                  [sexy]       73440.0   \n",
       "61                                 [funky]       78186.0   \n",
       "64                          [party, party]        9765.0   \n",
       "78     [party, party, party, party, party]       39469.0   \n",
       "...                                    ...           ...   \n",
       "35439                       [relax, relax]       20980.0   \n",
       "36031                               [sexy]       69919.0   \n",
       "36666                          [rush hour]           NaN   \n",
       "36688                        [funky, lush]       70342.0   \n",
       "36716                   [sexy, sexy, sexy]           NaN   \n",
       "\n",
       "                                         lyrics_features  \\\n",
       "30     [all, the, single, ladies, all, the, single, l...   \n",
       "50     [remember, those, walls, i, built, well, baby,...   \n",
       "61                                                    []   \n",
       "64     [girls, we, run, this, mutha, yeah, girls, we,...   \n",
       "78     [story, of, my, life, searching, for, the, rig...   \n",
       "...                                                  ...   \n",
       "35439  [now, i, m, give, it, to, ya, straight, gram, ...   \n",
       "36031                                                 []   \n",
       "36666                                                 []   \n",
       "36688  [it, s, been, seven, hours, and, fifteen, days...   \n",
       "36716  [thinking, of, you, that, s, all, i, seem, to,...   \n",
       "\n",
       "                                        _id  decades new_context  \n",
       "30     {'$oid': '52fdfb3e0b9398049f3ccb45'}       []       party  \n",
       "50     {'$oid': '52fdfb430b9398049f3d4c41'}  [2010s]        sexy  \n",
       "61     {'$oid': '52fdfb470b9398049f3db341'}       []         NaN  \n",
       "64     {'$oid': '52fdfb3e0b9398049f3ccc3a'}       []        sexy  \n",
       "78     {'$oid': '52fdfb450b9398049f3d89f9'}  [2000s]   housework  \n",
       "...                                     ...      ...         ...  \n",
       "35439  {'$oid': '52fdfb400b9398049f3d0fc3'}  [1990s]     driving  \n",
       "36031  {'$oid': '52fdfb440b9398049f3d6c07'}       []        sexy  \n",
       "36666  {'$oid': '52fdfb420b9398049f3d3adb'}       []     driving  \n",
       "36688  {'$oid': '52fdfb440b9398049f3d6f46'}  [1990s]         NaN  \n",
       "36716  {'$oid': '52fdfb420b9398049f3d3a51'}  [1990s]        sexy  \n",
       "\n",
       "[923 rows x 16 columns]"
      ]
     },
     "execution_count": 154,
     "metadata": {},
     "output_type": "execute_result"
    }
   ],
   "source": [
    "final_df = get_similar_song(['energetic'],'r&b')\n",
    "final_df"
   ]
  },
  {
   "cell_type": "code",
   "execution_count": 155,
   "id": "7b855bc0",
   "metadata": {
    "ExecuteTime": {
     "end_time": "2023-07-29T07:49:35.452370Z",
     "start_time": "2023-07-29T07:49:35.428269Z"
    }
   },
   "outputs": [],
   "source": [
    "def final_result(list_moods, genres):\n",
    "    final_df = get_similar_song(list_moods, genres)\n",
    "    final_df['genres'] = final_df['genres'].apply(lambda x: ''.join(x))\n",
    "    result = final_df[~final_df['moods'].isna()][['artist','name']]\n",
    "    dic = []\n",
    "    for i in range(0,result.shape[0]):\n",
    "        dic.append(result.iloc[i].to_list())\n",
    "    res_dic = []\n",
    "    for i in dic:\n",
    "        res_dic.append(Song(artist=i[0], title=i[1]))\n",
    "    \n",
    "    final_result_dictionary = dict(playlist=res_dic)       \n",
    "    final_result_dictionary['genre'] = genres\n",
    "    final_result_dictionary['moods'] = list_moods\n",
    "\n",
    "    return final_result_dictionary"
   ]
  },
  {
   "cell_type": "code",
   "execution_count": 161,
   "id": "77f7a999",
   "metadata": {
    "ExecuteTime": {
     "end_time": "2023-07-29T07:50:01.348348Z",
     "start_time": "2023-07-29T07:49:59.046053Z"
    }
   },
   "outputs": [
    {
     "name": "stderr",
     "output_type": "stream",
     "text": [
      "C:\\Users\\TRONG NGHIA\\AppData\\Local\\Temp\\ipykernel_14248\\4249095320.py:5: SettingWithCopyWarning: \n",
      "A value is trying to be set on a copy of a slice from a DataFrame.\n",
      "Try using .loc[row_indexer,col_indexer] = value instead\n",
      "\n",
      "See the caveats in the documentation: https://pandas.pydata.org/pandas-docs/stable/user_guide/indexing.html#returning-a-view-versus-a-copy\n",
      "  new_df['moods'] = new_df['moods'].apply(lambda x: is_in(x,list_moods))\n"
     ]
    }
   ],
   "source": [
    "final_result_dictionary = final_result(['energetic'], 'rock')\n",
    "final_result_dictionary['playlist'] = final_result_dictionary['playlist'][0:10]"
   ]
  },
  {
   "cell_type": "code",
   "execution_count": 176,
   "id": "3820bb4c",
   "metadata": {
    "ExecuteTime": {
     "end_time": "2023-07-29T07:52:21.430001Z",
     "start_time": "2023-07-29T07:52:21.405463Z"
    }
   },
   "outputs": [
    {
     "data": {
      "text/plain": [
       "[Song(artist='The Verve', title='Bitter Sweet Symphony'),\n",
       " Song(artist='blink-182', title='All The Small Things'),\n",
       " Song(artist='The Offspring', title=\"The Kids Aren't Alright\"),\n",
       " Song(artist='Coldplay', title='Clocks'),\n",
       " Song(artist='Panic! At The Disco', title='The Ballad Of Mona Lisa'),\n",
       " Song(artist='Metro Station', title='Shake It'),\n",
       " Song(artist='Fall Out Boy', title='Dance, Dance'),\n",
       " Song(artist='blink-182', title=\"Adam's Song\"),\n",
       " Song(artist='X', title='White Girl (Single Mix)'),\n",
       " Song(artist='The All-American Rejects', title='Dirty Little Secret')]"
      ]
     },
     "execution_count": 176,
     "metadata": {},
     "output_type": "execute_result"
    }
   ],
   "source": [
    "final_result_dictionary['playlist']"
   ]
  },
  {
   "cell_type": "code",
   "execution_count": 183,
   "id": "30654999",
   "metadata": {
    "ExecuteTime": {
     "end_time": "2023-07-29T07:53:19.862379Z",
     "start_time": "2023-07-29T07:53:19.838003Z"
    }
   },
   "outputs": [
    {
     "name": "stdout",
     "output_type": "stream",
     "text": [
      "The Verve :  Bitter Sweet Symphony\n",
      "blink-182 :  All The Small Things\n",
      "The Offspring :  The Kids Aren't Alright\n",
      "Coldplay :  Clocks\n",
      "Panic! At The Disco :  The Ballad Of Mona Lisa\n",
      "Metro Station :  Shake It\n",
      "Fall Out Boy :  Dance, Dance\n",
      "blink-182 :  Adam's Song\n",
      "X :  White Girl (Single Mix)\n",
      "The All-American Rejects :  Dirty Little Secret\n"
     ]
    }
   ],
   "source": [
    "for i in range (0,10):\n",
    "    print(final_result_dictionary['playlist'][i][0],\": \", final_result_dictionary['playlist'][i][1])"
   ]
  },
  {
   "cell_type": "code",
   "execution_count": 206,
   "id": "9b67dfc1",
   "metadata": {
    "ExecuteTime": {
     "end_time": "2023-07-29T07:59:36.787708Z",
     "start_time": "2023-07-29T07:59:36.768731Z"
    }
   },
   "outputs": [
    {
     "data": {
      "text/plain": [
       "'Bitter Sweet Symphony'"
      ]
     },
     "execution_count": 206,
     "metadata": {},
     "output_type": "execute_result"
    }
   ],
   "source": [
    "final_result_dictionary['playlist'][i][1]"
   ]
  },
  {
   "cell_type": "code",
   "execution_count": null,
   "id": "bb71ab91",
   "metadata": {},
   "outputs": [],
   "source": [
    "final_result_dictionary['playlist'][i][1]"
   ]
  },
  {
   "cell_type": "code",
   "execution_count": 283,
   "id": "8c5de066",
   "metadata": {
    "ExecuteTime": {
     "end_time": "2023-07-29T09:08:50.905200Z",
     "start_time": "2023-07-29T09:08:49.592897Z"
    }
   },
   "outputs": [
    {
     "name": "stdout",
     "output_type": "stream",
     "text": [
      "0 The Verve Bitter Sweet Symphony\n",
      "1 blink-182 All The Small Things\n",
      "2 The Offspring The Kids Aren't Alright\n",
      "3 Coldplay Clocks\n",
      "4 Panic! At The Disco The Ballad Of Mona Lisa\n",
      "5 Metro Station Shake It\n",
      "6 Fall Out Boy Dance, Dance\n",
      "7 blink-182 Adam's Song\n",
      "8 X White Girl (Single Mix)\n"
     ]
    }
   ],
   "source": [
    "tracksUri = []\n",
    "for i in range(len(final_result_dictionary['playlist'])-1):\n",
    "    artist = final_result_dictionary['playlist'][i][0]\n",
    "    track = final_result_dictionary['playlist'][i][1]\n",
    "    \n",
    "    print(i, artist, track)\n",
    "    results = spotify.search(q=\"artist:\" + artist + \" track:\" + track, type=\"track\")\n",
    "    items = results['tracks'][\"items\"]\n",
    "    if len(items)>0:\n",
    "        tracksUri.append(items[0]['uri'])"
   ]
  },
  {
   "cell_type": "code",
   "execution_count": 284,
   "id": "4f87238e",
   "metadata": {
    "ExecuteTime": {
     "end_time": "2023-07-29T09:08:52.293760Z",
     "start_time": "2023-07-29T09:08:52.282653Z"
    }
   },
   "outputs": [
    {
     "data": {
      "text/plain": [
       "['spotify:track:57iDDD9N9tTWe75x6qhStw',\n",
       " 'spotify:track:2m1hi0nfMR9vdGC8UcrnwU',\n",
       " 'spotify:track:4EchqUKQ3qAQuRNKmeIpnf',\n",
       " 'spotify:track:0BCPKOYdS2jbQ8iyB56Zns',\n",
       " 'spotify:track:5rLi8B8qgk6qThwRnKHW2P',\n",
       " 'spotify:track:5619Ojc6t9evEEs3B7Drhe',\n",
       " 'spotify:track:0a7BloCiNzLDD9qSQHh5m7',\n",
       " 'spotify:track:6xpDh0dXrkVp0Po1qrHUd8']"
      ]
     },
     "execution_count": 284,
     "metadata": {},
     "output_type": "execute_result"
    }
   ],
   "source": [
    "tracksUri"
   ]
  },
  {
   "cell_type": "code",
   "execution_count": 21,
   "id": "ebc0d7a5",
   "metadata": {
    "ExecuteTime": {
     "end_time": "2023-07-22T01:07:12.382883Z",
     "start_time": "2023-07-22T01:07:12.294311Z"
    }
   },
   "outputs": [],
   "source": [
    "final_df['genres'] = final_df['genres'].apply(lambda x: ''.join(x))"
   ]
  },
  {
   "cell_type": "code",
   "execution_count": 22,
   "id": "955e4fc7",
   "metadata": {
    "ExecuteTime": {
     "end_time": "2023-07-22T01:07:16.213971Z",
     "start_time": "2023-07-22T01:07:16.165637Z"
    }
   },
   "outputs": [
    {
     "name": "stderr",
     "output_type": "stream",
     "text": [
      "C:\\Users\\TRONG NGHIA\\AppData\\Local\\Temp\\ipykernel_20808\\2058796517.py:4: SettingWithCopyWarning: \n",
      "A value is trying to be set on a copy of a slice from a DataFrame.\n",
      "Try using .loc[row_indexer,col_indexer] = value instead\n",
      "\n",
      "See the caveats in the documentation: https://pandas.pydata.org/pandas-docs/stable/user_guide/indexing.html#returning-a-view-versus-a-copy\n",
      "  temp_df['moods'] = temp_df['moods'].apply(lambda x: is_in(x,list_moods))\n"
     ]
    }
   ],
   "source": [
    "final_df = get_similar_song(['energetic', 'happy'], 'r&b')"
   ]
  },
  {
   "cell_type": "code",
   "execution_count": 53,
   "id": "2059cf39",
   "metadata": {
    "ExecuteTime": {
     "end_time": "2023-07-22T01:16:09.419890Z",
     "start_time": "2023-07-22T01:16:09.407338Z"
    }
   },
   "outputs": [],
   "source": [
    "result = final_df[~final_df['moods'].isna()][['artist','name']]"
   ]
  },
  {
   "cell_type": "code",
   "execution_count": 54,
   "id": "11c5e6e8",
   "metadata": {
    "ExecuteTime": {
     "end_time": "2023-07-22T01:16:15.845647Z",
     "start_time": "2023-07-22T01:16:15.823631Z"
    }
   },
   "outputs": [
    {
     "data": {
      "text/plain": [
       "['Beyoncé', 'Love On Top']"
      ]
     },
     "execution_count": 54,
     "metadata": {},
     "output_type": "execute_result"
    }
   ],
   "source": [
    "result.iloc[1].to_list()"
   ]
  },
  {
   "cell_type": "code",
   "execution_count": 63,
   "id": "7ddfdc64",
   "metadata": {
    "ExecuteTime": {
     "end_time": "2023-07-22T01:17:37.936369Z",
     "start_time": "2023-07-22T01:17:37.914154Z"
    }
   },
   "outputs": [],
   "source": [
    "dic = []\n",
    "for i in range(0,result.shape[0]):\n",
    "    dic.append(result.iloc[i].to_list())"
   ]
  },
  {
   "cell_type": "code",
   "execution_count": 68,
   "id": "2032d344",
   "metadata": {
    "ExecuteTime": {
     "end_time": "2023-07-22T01:19:18.078175Z",
     "start_time": "2023-07-22T01:19:18.064958Z"
    }
   },
   "outputs": [],
   "source": [
    "res_dic = []\n",
    "for i in dic:\n",
    "    res_dic.append(Song(artist=i[0], title=i[1]))"
   ]
  },
  {
   "cell_type": "code",
   "execution_count": 76,
   "id": "f35093ff",
   "metadata": {
    "ExecuteTime": {
     "end_time": "2023-07-22T01:21:32.754884Z",
     "start_time": "2023-07-22T01:21:32.747888Z"
    }
   },
   "outputs": [],
   "source": [
    "final_result_dictionary = dict(playlist=res_dic)\n",
    "final_result_dictionary['genre'] = 'r&b'\n",
    "final_result_dictionary['moods'] = ['energetic','happy']"
   ]
  },
  {
   "cell_type": "code",
   "execution_count": 196,
   "id": "b94d7b09",
   "metadata": {
    "ExecuteTime": {
     "end_time": "2023-07-22T03:28:06.639188Z",
     "start_time": "2023-07-22T03:28:06.599218Z"
    }
   },
   "outputs": [
    {
     "name": "stdout",
     "output_type": "stream",
     "text": [
      "{'genre': 'rock', 'moods': ['energetic'], 'playlist': []}\n"
     ]
    }
   ],
   "source": [
    "pp.pprint(final_result_dictionary)"
   ]
  },
  {
   "cell_type": "code",
   "execution_count": 157,
   "id": "ae53e651",
   "metadata": {
    "ExecuteTime": {
     "end_time": "2023-07-29T07:49:47.566038Z",
     "start_time": "2023-07-29T07:49:47.557944Z"
    }
   },
   "outputs": [],
   "source": [
    "# makes printing a dict look nice\n",
    "from collections import namedtuple\n",
    "import pprint\n",
    "pp = pprint.PrettyPrinter(indent=4)\n",
    "Song = namedtuple(\"Song\", [\"artist\", \"title\"])"
   ]
  },
  {
   "cell_type": "code",
   "execution_count": 159,
   "id": "23164606",
   "metadata": {
    "ExecuteTime": {
     "end_time": "2023-07-29T07:49:53.893857Z",
     "start_time": "2023-07-29T07:49:53.885645Z"
    }
   },
   "outputs": [],
   "source": [
    "from collections import namedtuple"
   ]
  },
  {
   "cell_type": "code",
   "execution_count": 160,
   "id": "d4fba8c7",
   "metadata": {
    "ExecuteTime": {
     "end_time": "2023-07-29T07:49:54.494923Z",
     "start_time": "2023-07-29T07:49:54.471248Z"
    }
   },
   "outputs": [
    {
     "name": "stdout",
     "output_type": "stream",
     "text": [
      "{   'playlist': [   Song(artist='kanye west', title='i am a god'),\n",
      "                    Song(artist='linkin park', title='crawling')]}\n"
     ]
    }
   ],
   "source": [
    "Song = namedtuple(\"Song\", [\"artist\", \"title\"])\n",
    "\n",
    "song_1 = Song(artist=\"kanye west\", title='i am a god')\n",
    "song_2 = Song(artist=\"linkin park\", title=\"crawling\")\n",
    "# etc.\n",
    "\n",
    "# Return your results as a dict containing a key called 'playlist' , which contains a list of the song tuples.\n",
    "final_result_dictionary = dict(playlist=[song_1, song_2]) # this example uses only 2 songs but you need to return 10 :)\n",
    "\n",
    "pp.pprint(final_result_dictionary)"
   ]
  },
  {
   "cell_type": "code",
   "execution_count": 31,
   "id": "d4e7ffff",
   "metadata": {
    "ExecuteTime": {
     "end_time": "2023-07-22T01:11:18.012182Z",
     "start_time": "2023-07-22T01:11:17.992755Z"
    }
   },
   "outputs": [
    {
     "name": "stdout",
     "output_type": "stream",
     "text": [
      "{   'genre': 'Jazz',\n",
      "    'mood': [   Mood(description='Happy', probability=0.75),\n",
      "                Mood(description='Energetic', probability=0.71),\n",
      "                Mood(description='Celebratory', probability=0.68)],\n",
      "    'playlist': [   Song(artist='kanye west', title='i am a god'),\n",
      "                    Song(artist='linkin park', title='crawling')]}\n"
     ]
    }
   ],
   "source": [
    "Mood = namedtuple(\"Mood\", [\"description\", \"probability\"])\n",
    "\n",
    "top_mood_1 = Mood(description='Happy', probability=0.75)\n",
    "top_mood_2 = Mood(description='Energetic', probability=0.71)\n",
    "top_mood_3 = Mood(description='Celebratory', probability=0.68)\n",
    "\n",
    "final_result_dictionary['mood'] = [top_mood_1, top_mood_2, top_mood_3]\n",
    "final_result_dictionary['genre'] = 'Jazz'\n",
    "\n",
    "pp.pprint(final_result_dictionary)"
   ]
  },
  {
   "cell_type": "code",
   "execution_count": 197,
   "id": "adfa44e4",
   "metadata": {
    "ExecuteTime": {
     "end_time": "2023-07-22T03:28:15.192074Z",
     "start_time": "2023-07-22T03:28:15.129520Z"
    }
   },
   "outputs": [],
   "source": [
    "def recommend_similar_songs(audio_features, lyrics_features):\n",
    "    lyric_model = pickle.load(open('model_lyrics.pkl', 'rb'))\n",
    "    tfidf_vec = pickle.load(open('tfidf_vec.pkl','rb'))\n",
    "    tfidf = pickle.load(open('tfidf.pkl','rb'))\n",
    "    mlb = pickle.load(open('mlb.pkl','rb'))\n",
    "    pickled_model = pickle.load(open('model.pkl', 'rb'))\n",
    "\n",
    "    data = np.array(audio_features).reshape(1,-1)\n",
    "    genres = pickled_model.predict(data)[0]\n",
    "    list_moods = [mlb.inverse_transform(lyric_model.predict(tfidf_vec.transform([lyrics_features])))[0][0]]\n",
    "\n",
    "    final_df = get_similar_song(list_moods, genres)\n",
    "    \n",
    "    final_df['genres'] = final_df['genres'].apply(lambda x: ''.join(x))\n",
    "    result = final_df[~final_df['moods'].isna()][['artist','name']]\n",
    "    print(result)\n",
    "    dic = []\n",
    "    for i in range(0,result.shape[0]):\n",
    "        dic.append(result.iloc[i].to_list())\n",
    "    res_dic = []\n",
    "    for i in dic:\n",
    "        res_dic.append(Song(artist=i[0], title=i[1]))\n",
    "\n",
    "    final_result_dictionary = dict(playlist=res_dic)       \n",
    "    final_result_dictionary['genre'] = genres\n",
    "    final_result_dictionary['moods'] = list_moods\n",
    "\n",
    "    pp.pprint(final_result_dictionary)\n",
    "    return final_result_dictionary"
   ]
  },
  {
   "cell_type": "code",
   "execution_count": 198,
   "id": "ac682e5f",
   "metadata": {
    "ExecuteTime": {
     "end_time": "2023-07-22T03:28:15.363082Z",
     "start_time": "2023-07-22T03:28:15.345699Z"
    }
   },
   "outputs": [],
   "source": [
    "data = np.array([[ 5.0000000e+00,  6.1600000e-01,  9.2700000e-02,  1.4808800e+02,\n",
    "         3.2400000e-02,  1.8200000e-01,  0.0000000e+00,  4.0000000e+00,\n",
    "         2.4209642e+02, -7.9640000e+00,  7.1900000e-01,  5.8600000e-01,\n",
    "         1.0000000e+00,  9.1900000e-01,  2.4700000e-01,  1.6200000e-01,\n",
    "         2.5600000e-01]])"
   ]
  },
  {
   "cell_type": "code",
   "execution_count": 199,
   "id": "6a27e484",
   "metadata": {
    "ExecuteTime": {
     "end_time": "2023-07-22T03:28:15.642743Z",
     "start_time": "2023-07-22T03:28:15.624679Z"
    }
   },
   "outputs": [],
   "source": [
    "lyric = 'say baby say baby say baby anderson paak  bruno mars what you doin what you doin where you at where you at oh you got plans you got plans dont say that shut your trap im sippin wine sip sip in a robe drip drip i look too good look too good to be alone woo woo my house clean house clean my pool warm pool warm just shaved smooth like a newborn we should be dancin romancin in the east wing and the west wing of this mansion whats happenin  pre  bruno mars i aint playin no games every word that i say is coming straight from the heart so if you tryna lay in these arms bruno mars ima leave the door open ima leave the door open ima leave the door open girl ima leave the door open hopin that you feel the way i feel and you want me like i want you tonight baby tell me that youre comin through you might also like  anderson paak  bruno mars ooh youre so sweet so sweet so tight so tight i wont bite uhuh unless you like unless you like if you smoke what you smoke i got the haze purple haze and if youre hungry girl i got filets woo ooh baby dont keep me waitin theres so much love we could be makin shamone im talkin kissin cuddlin rose petals in the bathtub girl lets jump in its bubblin  pre  bruno mars i aint playin no games every word that i say is coming straight from the heart so if you tryna lay in these arms if you tryna lay in these arms bruno mars ima leave the door open ima leave the door open ima leave the door open girl ima leave the door open hopin that you feel the way i feel and you want me like i want you tonight baby tell me that youre comin through come on girl  bridge bruno mars  anderson paak lalalalalalala i need you baby lalalalalalala i got to see you baby lalalalalalala girl im tryna give you this ah bruno mars hey hey ima leave my door open baby ima leave the door open ima leave ima leave my door open girl ima leave the door open hopin and im hopin hopin that you feel the way i feel and you want me like i want you tonight baby tell me that youre comin through woo bruno mars  anderson paak lalalalalalala tell me tell me that youre comin through woowoowoowoo woowoowoo woowoowoo woowoowoowoo woowoowoo woowoo lalalalalalala lalalalala tell me that youre comin through girl im here just waitin for you oh come on over ill adore you i gotta know lalalalalalala im waitin waitin waitin tell me that youre comin through for you girl im here just waitin for you come on over ill adore you lalalalalalala'"
   ]
  },
  {
   "cell_type": "code",
   "execution_count": 200,
   "id": "10b725d5",
   "metadata": {
    "ExecuteTime": {
     "end_time": "2023-07-22T03:28:29.514706Z",
     "start_time": "2023-07-22T03:28:17.038564Z"
    }
   },
   "outputs": [
    {
     "name": "stdout",
     "output_type": "stream",
     "text": [
      "Empty DataFrame\n",
      "Columns: [artist, name]\n",
      "Index: []\n",
      "{'genre': 'r&b', 'moods': ['energetic'], 'playlist': []}\n"
     ]
    },
    {
     "name": "stderr",
     "output_type": "stream",
     "text": [
      "C:\\Users\\TRONG NGHIA\\AppData\\Local\\Temp\\ipykernel_20808\\4249095320.py:5: SettingWithCopyWarning: \n",
      "A value is trying to be set on a copy of a slice from a DataFrame.\n",
      "Try using .loc[row_indexer,col_indexer] = value instead\n",
      "\n",
      "See the caveats in the documentation: https://pandas.pydata.org/pandas-docs/stable/user_guide/indexing.html#returning-a-view-versus-a-copy\n",
      "  new_df['moods'] = new_df['moods'].apply(lambda x: is_in(x,list_moods))\n"
     ]
    },
    {
     "data": {
      "text/plain": [
       "{'playlist': [], 'genre': 'r&b', 'moods': ['energetic']}"
      ]
     },
     "execution_count": 200,
     "metadata": {},
     "output_type": "execute_result"
    }
   ],
   "source": [
    "recommend_similar_songs(data, lyric)"
   ]
  },
  {
   "cell_type": "code",
   "execution_count": 255,
   "id": "47833cc0",
   "metadata": {
    "ExecuteTime": {
     "end_time": "2023-07-29T08:53:47.107298Z",
     "start_time": "2023-07-29T08:53:47.095577Z"
    }
   },
   "outputs": [],
   "source": [
    "token = 'BQBgPykQynLqalAztS3hf2911N8_HhONfdy2NEhQcI7moPnaZSOHO77LoSpUIzY2gn5u8itjKyWLLhi55Bt998ogwBb3b57rT2LF5r9JV7PalYa3RckgzHyA30DrMItHAlO5b0k9hBKP_2IF99hFyYaxcnABKifl14Ou9sLWtH3F9yTkVcvhtiPxyehOeXD3rdJ-PoGqEnBV_CvBuYHa-0jC15yQlNUc0TdO0An-hq0SEF8o_DSh4l5kWdd6ruU-5mLphVXELSkX1_W30KdzEZMMnxf0';\n",
    "import spotipy\n",
    "import sys\n",
    "from spotipy.oauth2 import SpotifyClientCredentials\n",
    "\n",
    "CLIENT_ID='5f9548cc54f242bb97c58c5dfeb884c5'\n",
    "CLIENT_SECRET='03ebdb028ed6454ba33102e925f1fcc1'\n",
    "USER_ID = '317u5f5phywzysmnov6x6tppkrxq'"
   ]
  },
  {
   "cell_type": "code",
   "execution_count": 240,
   "id": "1cdfb36d",
   "metadata": {
    "ExecuteTime": {
     "end_time": "2023-07-29T08:47:15.370650Z",
     "start_time": "2023-07-29T08:47:15.100215Z"
    }
   },
   "outputs": [],
   "source": [
    "token = 'BQBgPykQynLqalAztS3hf2911N8_HhONfdy2NEhQcI7moPnaZSOHO77LoSpUIzY2gn5u8itjKyWLLhi55Bt998ogwBb3b57rT2LF5r9JV7PalYa3RckgzHyA30DrMItHAlO5b0k9hBKP_2IF99hFyYaxcnABKifl14Ou9sLWtH3F9yTkVcvhtiPxyehOeXD3rdJ-PoGqEnBV_CvBuYHa-0jC15yQlNUc0TdO0An-hq0SEF8o_DSh4l5kWdd6ruU-5mLphVXELSkX1_W30KdzEZMMnxf0';\n",
    "import spotipy\n",
    "import sys\n",
    "from spotipy.oauth2 import SpotifyClientCredentials\n",
    "\n",
    "CLIENT_ID='209bafc9b6db4ac2926f963e3f625059'\n",
    "CLIENT_SECRET='bae043586f964fb19795682b2c501553'\n",
    "USER_ID = '31qf6kxithhejdlybagvsvukiosu'\n",
    "\n",
    "spotify = spotipy.Spotify(auth_manager=SpotifyClientCredentials(CLIENT_ID, CLIENT_SECRET))\n",
    "\n",
    "artist = 'The Verve'\n",
    "track = 'Bitter Sweet Symphony'\n",
    "\n",
    "results = spotify.search(q=\"artist:\" + artist + \" track:\" + track, type=\"track\")\n",
    "items = results['tracks'][\"items\"]"
   ]
  },
  {
   "cell_type": "code",
   "execution_count": 253,
   "id": "dab5367f",
   "metadata": {
    "ExecuteTime": {
     "end_time": "2023-07-29T08:53:06.732581Z",
     "start_time": "2023-07-29T08:53:06.720586Z"
    }
   },
   "outputs": [],
   "source": [
    "token = 'BQBgPykQynLqalAztS3hf2911N8_HhONfdy2NEhQcI7moPnaZSOHO77LoSpUIzY2gn5u8itjKyWLLhi55Bt998ogwBb3b57rT2LF5r9JV7PalYa3RckgzHyA30DrMItHAlO5b0k9hBKP_2IF99hFyYaxcnABKifl14Ou9sLWtH3F9yTkVcvhtiPxyehOeXD3rdJ-PoGqEnBV_CvBuYHa-0jC15yQlNUc0TdO0An-hq0SEF8o_DSh4l5kWdd6ruU-5mLphVXELSkX1_W30KdzEZMMnxf0';"
   ]
  },
  {
   "cell_type": "code",
   "execution_count": 266,
   "id": "d1d51076",
   "metadata": {
    "ExecuteTime": {
     "end_time": "2023-07-29T09:02:42.944067Z",
     "start_time": "2023-07-29T09:02:42.507755Z"
    }
   },
   "outputs": [],
   "source": [
    "import json\n",
    "import requests\n",
    "user_id = \"YOUR_USER_ID\"\n",
    "endpoint_url = \"https://api.spotify.com/v1/users/{}/playlists\".format(USER_ID)\n",
    "request_body = json.dumps({\n",
    "          \"name\": \"Test tao playlist\",\n",
    "          \"description\": \"None\",\n",
    "          \"public\": True\n",
    "        })\n",
    "response = requests.post(url = endpoint_url, data = request_body, headers={\"Content-Type\":\"application/json\", \n",
    "                        \"Authorization\":\"Bearer {}\".format(token)})\n",
    "\n",
    "playlist_id = response.json()['id']\n",
    "endpoint_url = \"https://api.spotify.com/v1/playlists/{}/tracks?uris={}\".format(playlist_id, ','.join(tracksUri))\n",
    "response_final = requests.post(url = endpoint_url,headers={\"Content-Type\":\"application/json\", \n",
    "                        \"Authorization\":\"Bearer {}\".format(token)})"
   ]
  },
  {
   "cell_type": "code",
   "execution_count": 285,
   "id": "115feed0",
   "metadata": {
    "ExecuteTime": {
     "end_time": "2023-07-29T09:09:08.213052Z",
     "start_time": "2023-07-29T09:09:07.830759Z"
    }
   },
   "outputs": [],
   "source": [
    "playlist_id = response.json()['id']\n",
    "endpoint_url = \"https://api.spotify.com/v1/playlists/{}/tracks?uris={}\".format(playlist_id, ','.join(tracksUri))\n",
    "response_final = requests.post(url = endpoint_url,headers={\"Content-Type\":\"application/json\", \n",
    "                        \"Authorization\":\"Bearer {}\".format(token)})"
   ]
  },
  {
   "cell_type": "code",
   "execution_count": 291,
   "id": "6ddcc737",
   "metadata": {
    "ExecuteTime": {
     "end_time": "2023-07-29T09:35:53.555619Z",
     "start_time": "2023-07-29T09:35:53.535952Z"
    }
   },
   "outputs": [
    {
     "data": {
      "text/plain": [
       "'3sNWyEPiUPpeAKPzpHLFUw'"
      ]
     },
     "execution_count": 291,
     "metadata": {},
     "output_type": "execute_result"
    }
   ],
   "source": [
    "playlist_id = response.json()['id']\n",
    "playlist_id"
   ]
  },
  {
   "cell_type": "code",
   "execution_count": 294,
   "id": "2e4d845d",
   "metadata": {
    "ExecuteTime": {
     "end_time": "2023-07-29T10:08:52.319108Z",
     "start_time": "2023-07-29T10:08:49.923268Z"
    }
   },
   "outputs": [
    {
     "name": "stdout",
     "output_type": "stream",
     "text": [
      "spotify:track:57iDDD9N9tTWe75x6qhStw\n",
      "spotify:track:2m1hi0nfMR9vdGC8UcrnwU\n",
      "spotify:track:4EchqUKQ3qAQuRNKmeIpnf\n",
      "spotify:track:0BCPKOYdS2jbQ8iyB56Zns\n",
      "spotify:track:5rLi8B8qgk6qThwRnKHW2P\n",
      "spotify:track:5619Ojc6t9evEEs3B7Drhe\n",
      "spotify:track:0a7BloCiNzLDD9qSQHh5m7\n",
      "spotify:track:6xpDh0dXrkVp0Po1qrHUd8\n"
     ]
    }
   ],
   "source": [
    "token = 'BQBfCcUGvfFpLnUzJX87WsyezgzCDtAu_wAYQZCMtLoP0LyvMQa0o05RgaVRsPj-p5_bKeWl3G4dGiLary6TRz2blLVJKN5Kr6tL6dg7s5Y25Qb_tlCXj53wfLNt0lTN-xOneKThNSHjoTElYV6E8Y3zjStUfgxiqgsW0eOOQfhMf4b8ByFKnIglQazeOUNIjENTV4TJH1Mi5TQJ6wJi-B04jKp9zteW_bZ3Ax_CBjG-a_7VKRQbF_KwlsylLzJnyKqIgM6pOdOK6KeuZFGFE4HtoNSW';\n",
    "CLIENT_ID ='5f9548cc54f242bb97c58c5dfeb884c5'\n",
    "CLIENT_SECRET='03ebdb028ed6454ba33102e925f1fcc1'\n",
    "USER_ID = '317u5f5phywzysmnov6x6tppkrxq'\n",
    "tracksUri = []\n",
    "for i in range(len(final_result_dictionary['playlist'])-1):\n",
    "    artist = final_result_dictionary['playlist'][i][0]\n",
    "    track = final_result_dictionary['playlist'][i][1]\n",
    "\n",
    "    results = spotify.search(q=\"artist:\" + artist + \" track:\" + track, type=\"track\")\n",
    "    items = results['tracks'][\"items\"]\n",
    "    if len(items)>0:\n",
    "        print(items[0]['uri'])\n",
    "        tracksUri.append(items[0]['uri'])\n",
    "\n",
    "# tao playlist\n",
    "endpoint_url = \"https://api.spotify.com/v1/users/{}/playlists\".format(USER_ID)\n",
    "request_body = json.dumps({\n",
    "        \"name\": \"Test tao playlist\",\n",
    "        \"description\": \"None\",\n",
    "        \"public\": True\n",
    "        })\n",
    "response = requests.post(url = endpoint_url, data = request_body, headers={\"Content-Type\":\"application/json\", \n",
    "                        \"Authorization\":\"Bearer {}\".format(token)})\n",
    "\n",
    "#add bai hat\n",
    "playlist_id = response.json()['id']\n",
    "endpoint_url = \"https://api.spotify.com/v1/playlists/{}/tracks?uris={}\".format(playlist_id, ','.join(tracksUri))\n",
    "response_final = requests.post(url = endpoint_url,headers={\"Content-Type\":\"application/json\", \n",
    "                        \"Authorization\":\"Bearer {}\".format(token)})\n"
   ]
  },
  {
   "cell_type": "code",
   "execution_count": 304,
   "id": "46cfab89",
   "metadata": {
    "ExecuteTime": {
     "end_time": "2023-07-29T11:14:16.096662Z",
     "start_time": "2023-07-29T11:14:13.968161Z"
    }
   },
   "outputs": [
    {
     "name": "stdout",
     "output_type": "stream",
     "text": [
      "spotify:track:57iDDD9N9tTWe75x6qhStw\n",
      "spotify:track:2m1hi0nfMR9vdGC8UcrnwU\n",
      "spotify:track:4EchqUKQ3qAQuRNKmeIpnf\n",
      "spotify:track:0BCPKOYdS2jbQ8iyB56Zns\n",
      "spotify:track:5rLi8B8qgk6qThwRnKHW2P\n",
      "spotify:track:5619Ojc6t9evEEs3B7Drhe\n",
      "spotify:track:0a7BloCiNzLDD9qSQHh5m7\n",
      "spotify:track:6xpDh0dXrkVp0Po1qrHUd8\n"
     ]
    },
    {
     "ename": "SyntaxError",
     "evalue": "'return' outside function (562303219.py, line 32)",
     "output_type": "error",
     "traceback": [
      "\u001b[1;36m  Input \u001b[1;32mIn [304]\u001b[1;36m\u001b[0m\n\u001b[1;33m    return render_template(\"playlistdemo.html\")\u001b[0m\n\u001b[1;37m    ^\u001b[0m\n\u001b[1;31mSyntaxError\u001b[0m\u001b[1;31m:\u001b[0m 'return' outside function\n"
     ]
    }
   ],
   "source": [
    "token = 'BQA_leaA7wOD9-hqZKM9z-KfKX1u-bxyPTVjOMdKhyXdlZb0pDkp4LYvphYPFhyah_37TEcX6lmpPl9r8vA_kCi1nHU6cKfTzUR7wFTVqMlhGIrWo7VevMtIlv-vmDyfWKQOykCciSJpdoFua1Q918rQUtNObNXvHapOapNsRFGeYwxyuB-QlJtgGwz0aJg9sNtVqjL94ruitHPrFKnoJ2tZJgwmLi3XBvsebjUGcSBfUSdUZtpk4Z4kdWHMUt2cad8CYYN1Ly-frmEGXUB4v7oAVtc6';\n",
    "CLIENT_ID ='5f9548cc54f242bb97c58c5dfeb884c5'\n",
    "CLIENT_SECRET='03ebdb028ed6454ba33102e925f1fcc1'\n",
    "USER_ID = '317u5f5phywzysmnov6x6tppkrxq'\n",
    "tracksUri = []\n",
    "final_result_dictionary = {'genre': 'rock', 'moods': ['energetic'], 'playlist': [['The Verve', 'Bitter Sweet Symphony'], ['blink-182', 'All The Small Things'], ['The Offspring', \"The Kids Aren't Alright\"], ['Coldplay', 'Clocks'], ['Panic! At The Disco', 'The Ballad Of Mona Lisa'], ['Metro Station', 'Shake It'], ['Fall Out Boy', 'Dance, Dance'], ['blink-182', \"Adam's Song\"], ['X', 'White Girl (Single Mix)'], ['The All-American Rejects', 'Dirty Little Secret']]}\n",
    "for i in range(len(final_result_dictionary['playlist'])-1):\n",
    "    artist = final_result_dictionary['playlist'][i][0]\n",
    "    track = final_result_dictionary['playlist'][i][1]\n",
    "\n",
    "    results = spotify.search(q=\"artist:\" + artist + \" track:\" + track, type=\"track\")\n",
    "    items = results['tracks'][\"items\"]\n",
    "    if len(items)>0:\n",
    "        print(items[0]['uri'])\n",
    "        tracksUri.append(items[0]['uri'])\n",
    "# tao playlist\n",
    "endpoint_url = \"https://api.spotify.com/v1/users/{}/playlists\".format(USER_ID)\n",
    "request_body = json.dumps({\n",
    "        \"name\": \"Test tao playlist\",\n",
    "        \"description\": \"None\",\n",
    "        \"public\": True\n",
    "        })\n",
    "response = requests.post(url = endpoint_url, data = request_body, headers={\"Content-Type\":\"application/json\", \n",
    "                        \"Authorization\":\"Bearer {}\".format(token)})\n",
    "\n",
    "#add bai hat\n",
    "playlist_id = response.json()['id']\n",
    "endpoint_url = \"https://api.spotify.com/v1/playlists/{}/tracks?uris={}\".format(playlist_id, ','.join(tracksUri))\n",
    "response_final = requests.post(url = endpoint_url,headers={\"Content-Type\":\"application/json\", \n",
    "                        \"Authorization\":\"Bearer {}\".format(token)})\n",
    "\n",
    "return render_template(\"playlistdemo.html\")"
   ]
  },
  {
   "cell_type": "code",
   "execution_count": null,
   "id": "be51088c",
   "metadata": {},
   "outputs": [],
   "source": [
    "tracksUri = [\n",
    "  'spotify:track:5EejTyYwzTK8VsolyWqtzj','spotify:track:5n0uDcarEdMJvk2ab8C84Y','spotify:track:2w4Ex6ObV9rdYLkE4A9jV6','spotify:track:2mSCxOFDrjOH4Nfzqf9uKn','spotify:track:4sccoCUvKgarfGmvfAWoVV','spotify:track:4MZkrUWN2C0dhc7Xn1LPug','spotify:track:7g4WvO2YcBKC64ZsPGhpZG','spotify:track:2HbayD6vTHnDlmG3m19NHT','spotify:track:4FTH4NljhFV6cA4wdPM8G2','spotify:track:6VtfS06eULTWH32DwD5ps2'\n",
    "]"
   ]
  },
  {
   "cell_type": "code",
   "execution_count": 295,
   "id": "e8064751",
   "metadata": {
    "ExecuteTime": {
     "end_time": "2023-07-29T11:11:54.849518Z",
     "start_time": "2023-07-29T11:11:54.820404Z"
    }
   },
   "outputs": [],
   "source": [
    "test = {'genre': 'rock', 'moods': ['energetic'], 'playlist': [['The Verve', 'Bitter Sweet Symphony'], ['blink-182', 'All The Small Things'], ['The Offspring', \"The Kids Aren't Alright\"], ['Coldplay', 'Clocks'], ['Panic! At The Disco', 'The Ballad Of Mona Lisa'], ['Metro Station', 'Shake It'], ['Fall Out Boy', 'Dance, Dance'], ['blink-182', \"Adam's Song\"], ['X', 'White Girl (Single Mix)'], ['The All-American Rejects', 'Dirty Little Secret']]}"
   ]
  },
  {
   "cell_type": "code",
   "execution_count": 302,
   "id": "87bb5c95",
   "metadata": {
    "ExecuteTime": {
     "end_time": "2023-07-29T11:13:44.024320Z",
     "start_time": "2023-07-29T11:13:44.006425Z"
    }
   },
   "outputs": [],
   "source": [
    "final_result_dictionary = {'genre': 'rock', 'moods': ['energetic'], 'playlist': [['The Verve', 'Bitter Sweet Symphony'], ['blink-182', 'All The Small Things'], ['The Offspring', \"The Kids Aren't Alright\"], ['Coldplay', 'Clocks'], ['Panic! At The Disco', 'The Ballad Of Mona Lisa'], ['Metro Station', 'Shake It'], ['Fall Out Boy', 'Dance, Dance'], ['blink-182', \"Adam's Song\"], ['X', 'White Girl (Single Mix)'], ['The All-American Rejects', 'Dirty Little Secret']]}"
   ]
  },
  {
   "cell_type": "code",
   "execution_count": null,
   "id": "ce4501a1",
   "metadata": {},
   "outputs": [],
   "source": [
    "def playlistdemo():\n",
    "    args = request.get_json(force=True)\n",
    "    final_result_dictionary = args[\"recs\"]\n",
    "    \n",
    "    tracksUri = []\n",
    "    final_result_dictionary = {'genre': 'rock', 'moods': ['energetic'], 'playlist': [['The Verve', 'Bitter Sweet Symphony'], ['blink-182', 'All The Small Things'], ['The Offspring', \"The Kids Aren't Alright\"], ['Coldplay', 'Clocks'], ['Panic! At The Disco', 'The Ballad Of Mona Lisa'], ['Metro Station', 'Shake It'], ['Fall Out Boy', 'Dance, Dance'], ['blink-182', \"Adam's Song\"], ['X', 'White Girl (Single Mix)'], ['The All-American Rejects', 'Dirty Little Secret']]}\n",
    "    for i in range(len(final_result_dictionary['playlist'])-1):\n",
    "        artist = final_result_dictionary['playlist'][i][0]\n",
    "        track = final_result_dictionary['playlist'][i][1]\n",
    "\n",
    "        results = spotify.search(q=\"artist:\" + artist + \" track:\" + track, type=\"track\")\n",
    "        items = results['tracks'][\"items\"]\n",
    "        if len(items)>0:\n",
    "            print(items[0]['uri'])\n",
    "            tracksUri.append(items[0]['uri'])\n",
    "    # tao playlist\n",
    "    endpoint_url = \"https://api.spotify.com/v1/users/{}/playlists\".format(USER_ID)\n",
    "    request_body = json.dumps({\n",
    "            \"name\": \"Test tao playlist\",\n",
    "            \"description\": \"None\",\n",
    "            \"public\": True\n",
    "            })\n",
    "    response = requests.post(url = endpoint_url, data = request_body, headers={\"Content-Type\":\"application/json\", \n",
    "                            \"Authorization\":\"Bearer {}\".format(token)})\n",
    "\n",
    "    #add bai hat\n",
    "    playlist_id = response.json()['id']\n",
    "    endpoint_url = \"https://api.spotify.com/v1/playlists/{}/tracks?uris={}\".format(playlist_id, ','.join(tracksUri))\n",
    "    response_final = requests.post(url = endpoint_url,headers={\"Content-Type\":\"application/json\", \n",
    "                            \"Authorization\":\"Bearer {}\".format(token)})\n",
    "    return render_template(\"playlistdemo.html\")"
   ]
  }
 ],
 "metadata": {
  "kernelspec": {
   "display_name": "Python 3 (ipykernel)",
   "language": "python",
   "name": "python3"
  },
  "language_info": {
   "codemirror_mode": {
    "name": "ipython",
    "version": 3
   },
   "file_extension": ".py",
   "mimetype": "text/x-python",
   "name": "python",
   "nbconvert_exporter": "python",
   "pygments_lexer": "ipython3",
   "version": "3.9.12"
  },
  "toc": {
   "base_numbering": 1,
   "nav_menu": {},
   "number_sections": true,
   "sideBar": true,
   "skip_h1_title": false,
   "title_cell": "Table of Contents",
   "title_sidebar": "Contents",
   "toc_cell": false,
   "toc_position": {},
   "toc_section_display": true,
   "toc_window_display": false
  }
 },
 "nbformat": 4,
 "nbformat_minor": 5
}
